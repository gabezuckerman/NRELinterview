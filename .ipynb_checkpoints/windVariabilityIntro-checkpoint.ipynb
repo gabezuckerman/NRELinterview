{
 "cells": [
  {
   "cell_type": "markdown",
   "id": "a1100136",
   "metadata": {},
   "source": [
    "### This is a local version of the HSDS WTK demo. This does not contain technical task code"
   ]
  },
  {
   "cell_type": "code",
   "execution_count": 16,
   "id": "97790226",
   "metadata": {},
   "outputs": [],
   "source": [
    "%matplotlib inline\n",
    "import h5pyd\n",
    "import numpy as np\n",
    "import pandas as pd\n",
    "import matplotlib.pyplot as plt\n",
    "import matplotlib.image as mpimg\n",
    "from scipy.spatial import cKDTree"
   ]
  },
  {
   "cell_type": "code",
   "execution_count": 56,
   "id": "09cc30da",
   "metadata": {},
   "outputs": [],
   "source": [
    "# Open the desired domain year of data\n",
    "# server endpoint, username, password is found via a config file\n",
    "f = h5pyd.File(\"/nrel/wtk/conus/wtk_conus_2012.h5\", 'r')"
   ]
  },
  {
   "cell_type": "code",
   "execution_count": 57,
   "id": "7068f8cb",
   "metadata": {},
   "outputs": [
    {
     "data": {
      "text/plain": [
       "(8784, 2488136)"
      ]
     },
     "execution_count": 57,
     "metadata": {},
     "output_type": "execute_result"
    }
   ],
   "source": [
    "# Datasets are stored in a 2d array of time x location\n",
    "dset = f['windspeed_100m']\n",
    "dset.shape"
   ]
  },
  {
   "cell_type": "code",
   "execution_count": 59,
   "id": "e5d8797d",
   "metadata": {},
   "outputs": [
    {
     "data": {
      "text/plain": [
       "DatetimeIndex(['2012-01-01 00:00:00', '2012-01-01 01:00:00',\n",
       "               '2012-01-01 02:00:00', '2012-01-01 03:00:00',\n",
       "               '2012-01-01 04:00:00', '2012-01-01 05:00:00',\n",
       "               '2012-01-01 06:00:00', '2012-01-01 07:00:00',\n",
       "               '2012-01-01 08:00:00', '2012-01-01 09:00:00',\n",
       "               ...\n",
       "               '2012-12-31 14:00:00', '2012-12-31 15:00:00',\n",
       "               '2012-12-31 16:00:00', '2012-12-31 17:00:00',\n",
       "               '2012-12-31 18:00:00', '2012-12-31 19:00:00',\n",
       "               '2012-12-31 20:00:00', '2012-12-31 21:00:00',\n",
       "               '2012-12-31 22:00:00', '2012-12-31 23:00:00'],\n",
       "              dtype='datetime64[ns]', length=8784, freq=None)"
      ]
     },
     "execution_count": 59,
     "metadata": {},
     "output_type": "execute_result"
    }
   ],
   "source": [
    "# Extract datetime index for datasets\n",
    "time_index = pd.to_datetime(f['time_index'][...].astype(str))\n",
    "time_index # Temporal resolution is 1 hour"
   ]
  },
  {
   "cell_type": "code",
   "execution_count": 60,
   "id": "df09dc06",
   "metadata": {},
   "outputs": [
    {
     "data": {
      "text/html": [
       "<div>\n",
       "<style scoped>\n",
       "    .dataframe tbody tr th:only-of-type {\n",
       "        vertical-align: middle;\n",
       "    }\n",
       "\n",
       "    .dataframe tbody tr th {\n",
       "        vertical-align: top;\n",
       "    }\n",
       "\n",
       "    .dataframe thead th {\n",
       "        text-align: right;\n",
       "    }\n",
       "</style>\n",
       "<table border=\"1\" class=\"dataframe\">\n",
       "  <thead>\n",
       "    <tr style=\"text-align: right;\">\n",
       "      <th></th>\n",
       "      <th>latitude</th>\n",
       "      <th>longitude</th>\n",
       "      <th>country</th>\n",
       "      <th>state</th>\n",
       "      <th>county</th>\n",
       "      <th>timezone</th>\n",
       "      <th>elevation</th>\n",
       "      <th>offshore</th>\n",
       "    </tr>\n",
       "  </thead>\n",
       "  <tbody>\n",
       "    <tr>\n",
       "      <th>0</th>\n",
       "      <td>37.603382</td>\n",
       "      <td>-127.617050</td>\n",
       "      <td>b'None'</td>\n",
       "      <td>b'None'</td>\n",
       "      <td>b'None'</td>\n",
       "      <td>-9</td>\n",
       "      <td>0</td>\n",
       "      <td>1</td>\n",
       "    </tr>\n",
       "    <tr>\n",
       "      <th>1</th>\n",
       "      <td>37.620419</td>\n",
       "      <td>-127.626007</td>\n",
       "      <td>b'None'</td>\n",
       "      <td>b'None'</td>\n",
       "      <td>b'None'</td>\n",
       "      <td>-9</td>\n",
       "      <td>0</td>\n",
       "      <td>1</td>\n",
       "    </tr>\n",
       "    <tr>\n",
       "      <th>2</th>\n",
       "      <td>37.637451</td>\n",
       "      <td>-127.634979</td>\n",
       "      <td>b'None'</td>\n",
       "      <td>b'None'</td>\n",
       "      <td>b'None'</td>\n",
       "      <td>-9</td>\n",
       "      <td>0</td>\n",
       "      <td>1</td>\n",
       "    </tr>\n",
       "    <tr>\n",
       "      <th>3</th>\n",
       "      <td>37.654484</td>\n",
       "      <td>-127.643951</td>\n",
       "      <td>b'None'</td>\n",
       "      <td>b'None'</td>\n",
       "      <td>b'None'</td>\n",
       "      <td>-9</td>\n",
       "      <td>0</td>\n",
       "      <td>1</td>\n",
       "    </tr>\n",
       "    <tr>\n",
       "      <th>4</th>\n",
       "      <td>37.671509</td>\n",
       "      <td>-127.652924</td>\n",
       "      <td>b'None'</td>\n",
       "      <td>b'None'</td>\n",
       "      <td>b'None'</td>\n",
       "      <td>-9</td>\n",
       "      <td>0</td>\n",
       "      <td>1</td>\n",
       "    </tr>\n",
       "  </tbody>\n",
       "</table>\n",
       "</div>"
      ],
      "text/plain": [
       "    latitude   longitude  country    state   county  timezone  elevation  \\\n",
       "0  37.603382 -127.617050  b'None'  b'None'  b'None'        -9          0   \n",
       "1  37.620419 -127.626007  b'None'  b'None'  b'None'        -9          0   \n",
       "2  37.637451 -127.634979  b'None'  b'None'  b'None'        -9          0   \n",
       "3  37.654484 -127.643951  b'None'  b'None'  b'None'        -9          0   \n",
       "4  37.671509 -127.652924  b'None'  b'None'  b'None'        -9          0   \n",
       "\n",
       "   offshore  \n",
       "0         1  \n",
       "1         1  \n",
       "2         1  \n",
       "3         1  \n",
       "4         1  "
      ]
     },
     "execution_count": 60,
     "metadata": {},
     "output_type": "execute_result"
    }
   ],
   "source": [
    "# Locational information is stored in either 'meta' or 'coordinates'\n",
    "meta = pd.DataFrame(f['meta'][...])\n",
    "meta.head()"
   ]
  },
  {
   "cell_type": "code",
   "execution_count": 61,
   "id": "af57addf",
   "metadata": {},
   "outputs": [
    {
     "name": "stdout",
     "output_type": "stream",
     "text": [
      "wind speed scale factor =  100.0\n",
      "wind speed units after unscaling =  m s-1\n"
     ]
    },
    {
     "data": {
      "text/plain": [
       "4.07"
      ]
     },
     "execution_count": 61,
     "metadata": {},
     "output_type": "execute_result"
    }
   ],
   "source": [
    "scale_factor = f['windspeed_100m'].attrs['scale_factor']\n",
    "units = f['windspeed_100m'].attrs['units']\n",
    "print('wind speed scale factor = ', scale_factor)\n",
    "print('wind speed units after unscaling = ', units)\n",
    "f['windspeed_100m'][0, 0] / scale_factor # divide by scale_factor to return native value"
   ]
  },
  {
   "cell_type": "markdown",
   "id": "a685f2d3",
   "metadata": {},
   "source": [
    "Get the time_index from the server and convert to a pandas DatetimeIndex for convenience:\n"
   ]
  },
  {
   "cell_type": "code",
   "execution_count": 62,
   "id": "480f95ee",
   "metadata": {},
   "outputs": [
    {
     "data": {
      "text/plain": [
       "DatetimeIndex(['2012-01-01 00:00:00', '2012-01-01 01:00:00',\n",
       "               '2012-01-01 02:00:00', '2012-01-01 03:00:00',\n",
       "               '2012-01-01 04:00:00', '2012-01-01 05:00:00',\n",
       "               '2012-01-01 06:00:00', '2012-01-01 07:00:00',\n",
       "               '2012-01-01 08:00:00', '2012-01-01 09:00:00',\n",
       "               ...\n",
       "               '2012-12-31 14:00:00', '2012-12-31 15:00:00',\n",
       "               '2012-12-31 16:00:00', '2012-12-31 17:00:00',\n",
       "               '2012-12-31 18:00:00', '2012-12-31 19:00:00',\n",
       "               '2012-12-31 20:00:00', '2012-12-31 21:00:00',\n",
       "               '2012-12-31 22:00:00', '2012-12-31 23:00:00'],\n",
       "              dtype='datetime64[ns]', length=8784, freq=None)"
      ]
     },
     "execution_count": 62,
     "metadata": {},
     "output_type": "execute_result"
    }
   ],
   "source": [
    "time_index = pd.to_datetime(f['time_index'][...].astype(str))\n",
    "time_index"
   ]
  },
  {
   "cell_type": "code",
   "execution_count": 63,
   "id": "aa4345c2",
   "metadata": {},
   "outputs": [
    {
     "data": {
      "text/plain": [
       "array([1440, 1441, 1442, 1443, 1444, 1445, 1446, 1447, 1448, 1449, 1450,\n",
       "       1451, 1452, 1453, 1454, 1455, 1456, 1457, 1458, 1459, 1460, 1461,\n",
       "       1462, 1463, 1464, 1465, 1466, 1467, 1468, 1469, 1470, 1471, 1472,\n",
       "       1473, 1474, 1475, 1476, 1477, 1478, 1479, 1480, 1481, 1482, 1483,\n",
       "       1484, 1485, 1486, 1487, 1488, 1489, 1490, 1491, 1492, 1493, 1494,\n",
       "       1495, 1496, 1497, 1498, 1499, 1500, 1501, 1502, 1503, 1504, 1505,\n",
       "       1506, 1507, 1508, 1509, 1510, 1511, 1512, 1513, 1514, 1515, 1516,\n",
       "       1517, 1518, 1519, 1520, 1521, 1522, 1523, 1524, 1525, 1526, 1527,\n",
       "       1528, 1529, 1530, 1531, 1532, 1533, 1534, 1535, 1536, 1537, 1538,\n",
       "       1539, 1540, 1541, 1542, 1543, 1544, 1545, 1546, 1547, 1548, 1549,\n",
       "       1550, 1551, 1552, 1553, 1554, 1555, 1556, 1557, 1558, 1559, 1560,\n",
       "       1561, 1562, 1563, 1564, 1565, 1566, 1567, 1568, 1569, 1570, 1571,\n",
       "       1572, 1573, 1574, 1575, 1576, 1577, 1578, 1579, 1580, 1581, 1582,\n",
       "       1583, 1584, 1585, 1586, 1587, 1588, 1589, 1590, 1591, 1592, 1593,\n",
       "       1594, 1595, 1596, 1597, 1598, 1599, 1600, 1601, 1602, 1603, 1604,\n",
       "       1605, 1606, 1607, 1608, 1609, 1610, 1611, 1612, 1613, 1614, 1615,\n",
       "       1616, 1617, 1618, 1619, 1620, 1621, 1622, 1623, 1624, 1625, 1626,\n",
       "       1627, 1628, 1629, 1630, 1631, 1632, 1633, 1634, 1635, 1636, 1637,\n",
       "       1638, 1639, 1640, 1641, 1642, 1643, 1644, 1645, 1646, 1647, 1648,\n",
       "       1649, 1650, 1651, 1652, 1653, 1654, 1655, 1656, 1657, 1658, 1659,\n",
       "       1660, 1661, 1662, 1663, 1664, 1665, 1666, 1667, 1668, 1669, 1670,\n",
       "       1671, 1672, 1673, 1674, 1675, 1676, 1677, 1678, 1679, 1680, 1681,\n",
       "       1682, 1683, 1684, 1685, 1686, 1687, 1688, 1689, 1690, 1691, 1692,\n",
       "       1693, 1694, 1695, 1696, 1697, 1698, 1699, 1700, 1701, 1702, 1703,\n",
       "       1704, 1705, 1706, 1707, 1708, 1709, 1710, 1711, 1712, 1713, 1714,\n",
       "       1715, 1716, 1717, 1718, 1719, 1720, 1721, 1722, 1723, 1724, 1725,\n",
       "       1726, 1727, 1728, 1729, 1730, 1731, 1732, 1733, 1734, 1735, 1736,\n",
       "       1737, 1738, 1739, 1740, 1741, 1742, 1743, 1744, 1745, 1746, 1747,\n",
       "       1748, 1749, 1750, 1751, 1752, 1753, 1754, 1755, 1756, 1757, 1758,\n",
       "       1759, 1760, 1761, 1762, 1763, 1764, 1765, 1766, 1767, 1768, 1769,\n",
       "       1770, 1771, 1772, 1773, 1774, 1775, 1776, 1777, 1778, 1779, 1780,\n",
       "       1781, 1782, 1783, 1784, 1785, 1786, 1787, 1788, 1789, 1790, 1791,\n",
       "       1792, 1793, 1794, 1795, 1796, 1797, 1798, 1799, 1800, 1801, 1802,\n",
       "       1803, 1804, 1805, 1806, 1807, 1808, 1809, 1810, 1811, 1812, 1813,\n",
       "       1814, 1815, 1816, 1817, 1818, 1819, 1820, 1821, 1822, 1823, 1824,\n",
       "       1825, 1826, 1827, 1828, 1829, 1830, 1831, 1832, 1833, 1834, 1835,\n",
       "       1836, 1837, 1838, 1839, 1840, 1841, 1842, 1843, 1844, 1845, 1846,\n",
       "       1847, 1848, 1849, 1850, 1851, 1852, 1853, 1854, 1855, 1856, 1857,\n",
       "       1858, 1859, 1860, 1861, 1862, 1863, 1864, 1865, 1866, 1867, 1868,\n",
       "       1869, 1870, 1871, 1872, 1873, 1874, 1875, 1876, 1877, 1878, 1879,\n",
       "       1880, 1881, 1882, 1883, 1884, 1885, 1886, 1887, 1888, 1889, 1890,\n",
       "       1891, 1892, 1893, 1894, 1895, 1896, 1897, 1898, 1899, 1900, 1901,\n",
       "       1902, 1903, 1904, 1905, 1906, 1907, 1908, 1909, 1910, 1911, 1912,\n",
       "       1913, 1914, 1915, 1916, 1917, 1918, 1919, 1920, 1921, 1922, 1923,\n",
       "       1924, 1925, 1926, 1927, 1928, 1929, 1930, 1931, 1932, 1933, 1934,\n",
       "       1935, 1936, 1937, 1938, 1939, 1940, 1941, 1942, 1943, 1944, 1945,\n",
       "       1946, 1947, 1948, 1949, 1950, 1951, 1952, 1953, 1954, 1955, 1956,\n",
       "       1957, 1958, 1959, 1960, 1961, 1962, 1963, 1964, 1965, 1966, 1967,\n",
       "       1968, 1969, 1970, 1971, 1972, 1973, 1974, 1975, 1976, 1977, 1978,\n",
       "       1979, 1980, 1981, 1982, 1983, 1984, 1985, 1986, 1987, 1988, 1989,\n",
       "       1990, 1991, 1992, 1993, 1994, 1995, 1996, 1997, 1998, 1999, 2000,\n",
       "       2001, 2002, 2003, 2004, 2005, 2006, 2007, 2008, 2009, 2010, 2011,\n",
       "       2012, 2013, 2014, 2015, 2016, 2017, 2018, 2019, 2020, 2021, 2022,\n",
       "       2023, 2024, 2025, 2026, 2027, 2028, 2029, 2030, 2031, 2032, 2033,\n",
       "       2034, 2035, 2036, 2037, 2038, 2039, 2040, 2041, 2042, 2043, 2044,\n",
       "       2045, 2046, 2047, 2048, 2049, 2050, 2051, 2052, 2053, 2054, 2055,\n",
       "       2056, 2057, 2058, 2059, 2060, 2061, 2062, 2063, 2064, 2065, 2066,\n",
       "       2067, 2068, 2069, 2070, 2071, 2072, 2073, 2074, 2075, 2076, 2077,\n",
       "       2078, 2079, 2080, 2081, 2082, 2083, 2084, 2085, 2086, 2087, 2088,\n",
       "       2089, 2090, 2091, 2092, 2093, 2094, 2095, 2096, 2097, 2098, 2099,\n",
       "       2100, 2101, 2102, 2103, 2104, 2105, 2106, 2107, 2108, 2109, 2110,\n",
       "       2111, 2112, 2113, 2114, 2115, 2116, 2117, 2118, 2119, 2120, 2121,\n",
       "       2122, 2123, 2124, 2125, 2126, 2127, 2128, 2129, 2130, 2131, 2132,\n",
       "       2133, 2134, 2135, 2136, 2137, 2138, 2139, 2140, 2141, 2142, 2143,\n",
       "       2144, 2145, 2146, 2147, 2148, 2149, 2150, 2151, 2152, 2153, 2154,\n",
       "       2155, 2156, 2157, 2158, 2159, 2160, 2161, 2162, 2163, 2164, 2165,\n",
       "       2166, 2167, 2168, 2169, 2170, 2171, 2172, 2173, 2174, 2175, 2176,\n",
       "       2177, 2178, 2179, 2180, 2181, 2182, 2183])"
      ]
     },
     "execution_count": 63,
     "metadata": {},
     "output_type": "execute_result"
    }
   ],
   "source": [
    "march = time_index.month == 3\n",
    "np.where(march)[0]"
   ]
  },
  {
   "cell_type": "code",
   "execution_count": 64,
   "id": "6d0187b3",
   "metadata": {},
   "outputs": [
    {
     "data": {
      "text/plain": [
       "4440"
      ]
     },
     "execution_count": 64,
     "metadata": {},
     "output_type": "execute_result"
    }
   ],
   "source": [
    "timestep = np.where(time_index == '2012-07-04 00:00:00')[0][0]\n",
    "timestep"
   ]
  },
  {
   "cell_type": "markdown",
   "id": "cb2d95a0",
   "metadata": {},
   "source": [
    "Map Data"
   ]
  },
  {
   "cell_type": "code",
   "execution_count": 65,
   "id": "fb685332",
   "metadata": {},
   "outputs": [
    {
     "name": "stdout",
     "output_type": "stream",
     "text": [
      "{'description': '(latitude, longitude)'}\n"
     ]
    }
   ],
   "source": [
    "# Extract coordinates (lat, lon)\n",
    "print(dict(f['coordinates'].attrs))\n",
    "coords = f['coordinates'][...]"
   ]
  },
  {
   "cell_type": "code",
   "execution_count": 66,
   "id": "13ab12b2",
   "metadata": {},
   "outputs": [
    {
     "name": "stdout",
     "output_type": "stream",
     "text": [
      "CPU times: user 7.77 ms, sys: 1.75 ms, total: 9.52 ms\n",
      "Wall time: 1.85 s\n"
     ]
    }
   ],
   "source": [
    "dset = f['windspeed_100m']\n",
    "%time data = dset[timestep, ::10000]   # extract every 10000th location at a particular time\n",
    "df = pd.DataFrame() # Combine data with coordinates in a DataFrame\n",
    "df['longitude'] = coords[::10000, 1]\n",
    "df['latitude'] = coords[::10000, 0]\n",
    "df['windspeed_100m'] = data / dset.attrs['scale_factor'] # unscale dataset"
   ]
  },
  {
   "cell_type": "code",
   "execution_count": 83,
   "id": "3f75ea2b",
   "metadata": {},
   "outputs": [
    {
     "data": {
      "text/plain": [
       "2488136"
      ]
     },
     "execution_count": 83,
     "metadata": {},
     "output_type": "execute_result"
    }
   ],
   "source": [
    "len(np.unique(coords, axis = 1))"
   ]
  },
  {
   "cell_type": "code",
   "execution_count": 68,
   "id": "3a0681bb",
   "metadata": {},
   "outputs": [
    {
     "data": {
      "image/png": "[encoded data removed]",
      "text/plain": [
       "<Figure size 432x288 with 2 Axes>"
      ]
     },
     "metadata": {
      "needs_background": "light"
     },
     "output_type": "display_data"
    }
   ],
   "source": [
    "df.plot.scatter(x='longitude', y='latitude', c = 'windspeed_100m',\n",
    "                colormap='BrBG_r',\n",
    "                title=str(time_index[timestep]))\n",
    "plt.show()"
   ]
  },
  {
   "cell_type": "markdown",
   "id": "e1830eda",
   "metadata": {},
   "source": [
    "Nearest Timeseries for given Lat/Lon\n"
   ]
  },
  {
   "cell_type": "code",
   "execution_count": 69,
   "id": "ceb76874",
   "metadata": {},
   "outputs": [
    {
     "name": "stdout",
     "output_type": "stream",
     "text": [
      "Site index for New York City: \t\t 2300564\n",
      "Coordinates of New York City: \t (40.7128, -74.0059)\n",
      "Coordinates of nearest point: \t [ 40.714733 -74.01636 ]\n"
     ]
    }
   ],
   "source": [
    "# Unlike the gridded WTK data the NSRDB is provided as sparse time-series dataset.\n",
    "# The quickest way to find the nearest site it using a KDtree\n",
    "\n",
    "dset_coords = f['coordinates'][...]\n",
    "tree = cKDTree(dset_coords)\n",
    "def nearest_site(tree, lat_coord, lon_coord):\n",
    "    lat_lon = np.array([lat_coord, lon_coord])\n",
    "    dist, pos = tree.query(lat_lon)\n",
    "    return pos\n",
    "\n",
    "NewYorkCity = (40.7128, -74.0059)\n",
    "NewYorkCity_idx = nearest_site(tree, NewYorkCity[0], NewYorkCity[1] )\n",
    "\n",
    "print(\"Site index for New York City: \\t\\t {}\".format(NewYorkCity_idx))\n",
    "print(\"Coordinates of New York City: \\t {}\".format(NewYorkCity))\n",
    "print(\"Coordinates of nearest point: \\t {}\".format(dset_coords[NewYorkCity_idx]))"
   ]
  },
  {
   "cell_type": "code",
   "execution_count": 70,
   "id": "6b9cd76c",
   "metadata": {},
   "outputs": [
    {
     "name": "stdout",
     "output_type": "stream",
     "text": [
      "CPU times: user 7.88 ms, sys: 8.79 ms, total: 16.7 ms\n",
      "Wall time: 1.03 s\n"
     ]
    }
   ],
   "source": [
    "%time tseries = dset[:, NewYorkCity_idx] / dset.attrs['scale_factor']"
   ]
  },
  {
   "cell_type": "code",
   "execution_count": 71,
   "id": "d52fb789",
   "metadata": {},
   "outputs": [
    {
     "data": {
      "text/plain": [
       "8784"
      ]
     },
     "execution_count": 71,
     "metadata": {},
     "output_type": "execute_result"
    }
   ],
   "source": [
    "len(tseries)   # 1 years * 365 days * 24 hours * 30 minutes\n"
   ]
  },
  {
   "cell_type": "code",
   "execution_count": 72,
   "id": "14c2ca28",
   "metadata": {},
   "outputs": [
    {
     "data": {
      "text/plain": [
       "Text(0.5, 1.0, 'NYC ghi in 2012')"
      ]
     },
     "execution_count": 72,
     "metadata": {},
     "output_type": "execute_result"
    },
    {
     "data": {
      "image/png": "[encoded data removed]",
      "text/plain": [
       "<Figure size 432x288 with 1 Axes>"
      ]
     },
     "metadata": {
      "needs_background": "light"
     },
     "output_type": "display_data"
    }
   ],
   "source": [
    "plt.plot(time_index, tseries)\n",
    "plt.ylabel(\"wspd\")\n",
    "plt.title(\"NYC ghi in 2012\")"
   ]
  },
  {
   "cell_type": "markdown",
   "id": "735cc261",
   "metadata": {},
   "source": [
    "GHI Statistics"
   ]
  },
  {
   "cell_type": "code",
   "execution_count": 73,
   "id": "2dced17d",
   "metadata": {},
   "outputs": [
    {
     "data": {
      "text/html": [
       "<div>\n",
       "<style scoped>\n",
       "    .dataframe tbody tr th:only-of-type {\n",
       "        vertical-align: middle;\n",
       "    }\n",
       "\n",
       "    .dataframe tbody tr th {\n",
       "        vertical-align: top;\n",
       "    }\n",
       "\n",
       "    .dataframe thead th {\n",
       "        text-align: right;\n",
       "    }\n",
       "</style>\n",
       "<table border=\"1\" class=\"dataframe\">\n",
       "  <thead>\n",
       "    <tr style=\"text-align: right;\">\n",
       "      <th>hour</th>\n",
       "      <th>0</th>\n",
       "      <th>1</th>\n",
       "      <th>2</th>\n",
       "      <th>3</th>\n",
       "      <th>4</th>\n",
       "      <th>5</th>\n",
       "      <th>6</th>\n",
       "      <th>7</th>\n",
       "      <th>8</th>\n",
       "      <th>9</th>\n",
       "      <th>...</th>\n",
       "      <th>14</th>\n",
       "      <th>15</th>\n",
       "      <th>16</th>\n",
       "      <th>17</th>\n",
       "      <th>18</th>\n",
       "      <th>19</th>\n",
       "      <th>20</th>\n",
       "      <th>21</th>\n",
       "      <th>22</th>\n",
       "      <th>23</th>\n",
       "    </tr>\n",
       "    <tr>\n",
       "      <th>month</th>\n",
       "      <th></th>\n",
       "      <th></th>\n",
       "      <th></th>\n",
       "      <th></th>\n",
       "      <th></th>\n",
       "      <th></th>\n",
       "      <th></th>\n",
       "      <th></th>\n",
       "      <th></th>\n",
       "      <th></th>\n",
       "      <th></th>\n",
       "      <th></th>\n",
       "      <th></th>\n",
       "      <th></th>\n",
       "      <th></th>\n",
       "      <th></th>\n",
       "      <th></th>\n",
       "      <th></th>\n",
       "      <th></th>\n",
       "      <th></th>\n",
       "      <th></th>\n",
       "    </tr>\n",
       "  </thead>\n",
       "  <tbody>\n",
       "    <tr>\n",
       "      <th>1</th>\n",
       "      <td>8.776774</td>\n",
       "      <td>8.691290</td>\n",
       "      <td>8.401613</td>\n",
       "      <td>8.113548</td>\n",
       "      <td>8.100323</td>\n",
       "      <td>7.768065</td>\n",
       "      <td>7.902258</td>\n",
       "      <td>7.762903</td>\n",
       "      <td>7.700000</td>\n",
       "      <td>7.455484</td>\n",
       "      <td>...</td>\n",
       "      <td>6.851935</td>\n",
       "      <td>6.265806</td>\n",
       "      <td>6.220645</td>\n",
       "      <td>6.269032</td>\n",
       "      <td>6.426129</td>\n",
       "      <td>6.875484</td>\n",
       "      <td>7.366452</td>\n",
       "      <td>7.694516</td>\n",
       "      <td>8.247419</td>\n",
       "      <td>8.687097</td>\n",
       "    </tr>\n",
       "    <tr>\n",
       "      <th>2</th>\n",
       "      <td>7.175172</td>\n",
       "      <td>7.224138</td>\n",
       "      <td>7.095172</td>\n",
       "      <td>6.835862</td>\n",
       "      <td>6.987586</td>\n",
       "      <td>7.078276</td>\n",
       "      <td>7.188276</td>\n",
       "      <td>6.738276</td>\n",
       "      <td>6.636552</td>\n",
       "      <td>6.704483</td>\n",
       "      <td>...</td>\n",
       "      <td>5.739655</td>\n",
       "      <td>5.542759</td>\n",
       "      <td>5.748621</td>\n",
       "      <td>6.062759</td>\n",
       "      <td>6.132069</td>\n",
       "      <td>6.275862</td>\n",
       "      <td>6.509655</td>\n",
       "      <td>6.649310</td>\n",
       "      <td>6.730000</td>\n",
       "      <td>6.733448</td>\n",
       "    </tr>\n",
       "    <tr>\n",
       "      <th>3</th>\n",
       "      <td>6.572258</td>\n",
       "      <td>6.766774</td>\n",
       "      <td>6.554516</td>\n",
       "      <td>6.685806</td>\n",
       "      <td>6.587419</td>\n",
       "      <td>6.523226</td>\n",
       "      <td>6.547742</td>\n",
       "      <td>6.519355</td>\n",
       "      <td>6.540000</td>\n",
       "      <td>6.574839</td>\n",
       "      <td>...</td>\n",
       "      <td>5.205806</td>\n",
       "      <td>5.286774</td>\n",
       "      <td>5.317419</td>\n",
       "      <td>5.572903</td>\n",
       "      <td>5.728387</td>\n",
       "      <td>6.223226</td>\n",
       "      <td>6.328065</td>\n",
       "      <td>6.468710</td>\n",
       "      <td>6.350645</td>\n",
       "      <td>6.395484</td>\n",
       "    </tr>\n",
       "    <tr>\n",
       "      <th>4</th>\n",
       "      <td>7.277667</td>\n",
       "      <td>7.285000</td>\n",
       "      <td>7.541000</td>\n",
       "      <td>7.468333</td>\n",
       "      <td>7.250333</td>\n",
       "      <td>7.258000</td>\n",
       "      <td>7.099000</td>\n",
       "      <td>7.111667</td>\n",
       "      <td>6.558667</td>\n",
       "      <td>6.609667</td>\n",
       "      <td>...</td>\n",
       "      <td>5.543000</td>\n",
       "      <td>6.069000</td>\n",
       "      <td>6.473000</td>\n",
       "      <td>6.569000</td>\n",
       "      <td>7.130667</td>\n",
       "      <td>7.043667</td>\n",
       "      <td>7.626667</td>\n",
       "      <td>7.842667</td>\n",
       "      <td>7.666667</td>\n",
       "      <td>7.570000</td>\n",
       "    </tr>\n",
       "    <tr>\n",
       "      <th>5</th>\n",
       "      <td>5.242903</td>\n",
       "      <td>5.206452</td>\n",
       "      <td>5.400323</td>\n",
       "      <td>5.303226</td>\n",
       "      <td>4.942581</td>\n",
       "      <td>4.777419</td>\n",
       "      <td>4.818710</td>\n",
       "      <td>4.598710</td>\n",
       "      <td>4.943871</td>\n",
       "      <td>4.910323</td>\n",
       "      <td>...</td>\n",
       "      <td>4.232581</td>\n",
       "      <td>4.101613</td>\n",
       "      <td>4.388710</td>\n",
       "      <td>5.011613</td>\n",
       "      <td>5.586774</td>\n",
       "      <td>5.930645</td>\n",
       "      <td>6.299677</td>\n",
       "      <td>5.833226</td>\n",
       "      <td>5.860323</td>\n",
       "      <td>5.576452</td>\n",
       "    </tr>\n",
       "    <tr>\n",
       "      <th>6</th>\n",
       "      <td>6.584333</td>\n",
       "      <td>5.895667</td>\n",
       "      <td>5.921333</td>\n",
       "      <td>5.947333</td>\n",
       "      <td>5.652000</td>\n",
       "      <td>5.292667</td>\n",
       "      <td>4.628667</td>\n",
       "      <td>4.311000</td>\n",
       "      <td>4.443000</td>\n",
       "      <td>4.228667</td>\n",
       "      <td>...</td>\n",
       "      <td>4.611000</td>\n",
       "      <td>4.672000</td>\n",
       "      <td>5.475667</td>\n",
       "      <td>6.178000</td>\n",
       "      <td>6.249667</td>\n",
       "      <td>7.017667</td>\n",
       "      <td>7.139667</td>\n",
       "      <td>6.957333</td>\n",
       "      <td>6.535667</td>\n",
       "      <td>6.702000</td>\n",
       "    </tr>\n",
       "    <tr>\n",
       "      <th>7</th>\n",
       "      <td>5.417742</td>\n",
       "      <td>5.372258</td>\n",
       "      <td>4.898387</td>\n",
       "      <td>4.863548</td>\n",
       "      <td>4.821935</td>\n",
       "      <td>4.832581</td>\n",
       "      <td>4.320323</td>\n",
       "      <td>4.382903</td>\n",
       "      <td>4.190968</td>\n",
       "      <td>4.462903</td>\n",
       "      <td>...</td>\n",
       "      <td>4.096129</td>\n",
       "      <td>4.125161</td>\n",
       "      <td>4.719032</td>\n",
       "      <td>5.132581</td>\n",
       "      <td>5.602581</td>\n",
       "      <td>6.334839</td>\n",
       "      <td>5.936774</td>\n",
       "      <td>6.178710</td>\n",
       "      <td>6.044839</td>\n",
       "      <td>6.018387</td>\n",
       "    </tr>\n",
       "    <tr>\n",
       "      <th>8</th>\n",
       "      <td>5.570323</td>\n",
       "      <td>5.231935</td>\n",
       "      <td>4.979355</td>\n",
       "      <td>4.799032</td>\n",
       "      <td>4.500645</td>\n",
       "      <td>4.301290</td>\n",
       "      <td>4.176452</td>\n",
       "      <td>3.900000</td>\n",
       "      <td>3.741290</td>\n",
       "      <td>3.625161</td>\n",
       "      <td>...</td>\n",
       "      <td>3.149355</td>\n",
       "      <td>3.338065</td>\n",
       "      <td>3.878065</td>\n",
       "      <td>4.657419</td>\n",
       "      <td>5.418387</td>\n",
       "      <td>6.053226</td>\n",
       "      <td>5.873548</td>\n",
       "      <td>6.417097</td>\n",
       "      <td>5.980645</td>\n",
       "      <td>6.429355</td>\n",
       "    </tr>\n",
       "    <tr>\n",
       "      <th>9</th>\n",
       "      <td>6.284667</td>\n",
       "      <td>6.090333</td>\n",
       "      <td>5.904333</td>\n",
       "      <td>5.922667</td>\n",
       "      <td>5.374000</td>\n",
       "      <td>5.326333</td>\n",
       "      <td>5.345333</td>\n",
       "      <td>5.363333</td>\n",
       "      <td>5.366667</td>\n",
       "      <td>5.295667</td>\n",
       "      <td>...</td>\n",
       "      <td>4.508000</td>\n",
       "      <td>4.523000</td>\n",
       "      <td>4.591000</td>\n",
       "      <td>5.109000</td>\n",
       "      <td>5.719667</td>\n",
       "      <td>6.067667</td>\n",
       "      <td>6.090000</td>\n",
       "      <td>6.190000</td>\n",
       "      <td>6.227667</td>\n",
       "      <td>6.190000</td>\n",
       "    </tr>\n",
       "    <tr>\n",
       "      <th>10</th>\n",
       "      <td>6.659677</td>\n",
       "      <td>6.761613</td>\n",
       "      <td>6.985484</td>\n",
       "      <td>6.787097</td>\n",
       "      <td>6.882903</td>\n",
       "      <td>6.840000</td>\n",
       "      <td>7.021935</td>\n",
       "      <td>6.819032</td>\n",
       "      <td>6.717097</td>\n",
       "      <td>6.495484</td>\n",
       "      <td>...</td>\n",
       "      <td>5.202581</td>\n",
       "      <td>5.220968</td>\n",
       "      <td>5.395161</td>\n",
       "      <td>5.849355</td>\n",
       "      <td>6.106452</td>\n",
       "      <td>6.349032</td>\n",
       "      <td>6.660323</td>\n",
       "      <td>6.872581</td>\n",
       "      <td>7.050968</td>\n",
       "      <td>6.718387</td>\n",
       "    </tr>\n",
       "    <tr>\n",
       "      <th>11</th>\n",
       "      <td>7.011000</td>\n",
       "      <td>7.148667</td>\n",
       "      <td>7.148000</td>\n",
       "      <td>7.070000</td>\n",
       "      <td>6.979667</td>\n",
       "      <td>6.918333</td>\n",
       "      <td>6.993333</td>\n",
       "      <td>6.951000</td>\n",
       "      <td>7.041667</td>\n",
       "      <td>6.938000</td>\n",
       "      <td>...</td>\n",
       "      <td>5.858333</td>\n",
       "      <td>5.670000</td>\n",
       "      <td>5.382667</td>\n",
       "      <td>5.416333</td>\n",
       "      <td>5.485667</td>\n",
       "      <td>5.512000</td>\n",
       "      <td>5.727667</td>\n",
       "      <td>6.155000</td>\n",
       "      <td>6.555000</td>\n",
       "      <td>6.853000</td>\n",
       "    </tr>\n",
       "    <tr>\n",
       "      <th>12</th>\n",
       "      <td>7.767419</td>\n",
       "      <td>7.430000</td>\n",
       "      <td>6.930323</td>\n",
       "      <td>6.740968</td>\n",
       "      <td>6.940968</td>\n",
       "      <td>6.947097</td>\n",
       "      <td>7.227419</td>\n",
       "      <td>7.033226</td>\n",
       "      <td>6.995161</td>\n",
       "      <td>7.107742</td>\n",
       "      <td>...</td>\n",
       "      <td>6.049355</td>\n",
       "      <td>5.579032</td>\n",
       "      <td>5.518710</td>\n",
       "      <td>5.939677</td>\n",
       "      <td>6.160968</td>\n",
       "      <td>6.618065</td>\n",
       "      <td>6.630968</td>\n",
       "      <td>6.945806</td>\n",
       "      <td>7.296452</td>\n",
       "      <td>7.456129</td>\n",
       "    </tr>\n",
       "  </tbody>\n",
       "</table>\n",
       "<p>12 rows × 24 columns</p>\n",
       "</div>"
      ],
      "text/plain": [
       "hour         0         1         2         3         4         5         6   \\\n",
       "month                                                                         \n",
       "1      8.776774  8.691290  8.401613  8.113548  8.100323  7.768065  7.902258   \n",
       "2      7.175172  7.224138  7.095172  6.835862  6.987586  7.078276  7.188276   \n",
       "3      6.572258  6.766774  6.554516  6.685806  6.587419  6.523226  6.547742   \n",
       "4      7.277667  7.285000  7.541000  7.468333  7.250333  7.258000  7.099000   \n",
       "5      5.242903  5.206452  5.400323  5.303226  4.942581  4.777419  4.818710   \n",
       "6      6.584333  5.895667  5.921333  5.947333  5.652000  5.292667  4.628667   \n",
       "7      5.417742  5.372258  4.898387  4.863548  4.821935  4.832581  4.320323   \n",
       "8      5.570323  5.231935  4.979355  4.799032  4.500645  4.301290  4.176452   \n",
       "9      6.284667  6.090333  5.904333  5.922667  5.374000  5.326333  5.345333   \n",
       "10     6.659677  6.761613  6.985484  6.787097  6.882903  6.840000  7.021935   \n",
       "11     7.011000  7.148667  7.148000  7.070000  6.979667  6.918333  6.993333   \n",
       "12     7.767419  7.430000  6.930323  6.740968  6.940968  6.947097  7.227419   \n",
       "\n",
       "hour         7         8         9   ...        14        15        16  \\\n",
       "month                                ...                                 \n",
       "1      7.762903  7.700000  7.455484  ...  6.851935  6.265806  6.220645   \n",
       "2      6.738276  6.636552  6.704483  ...  5.739655  5.542759  5.748621   \n",
       "3      6.519355  6.540000  6.574839  ...  5.205806  5.286774  5.317419   \n",
       "4      7.111667  6.558667  6.609667  ...  5.543000  6.069000  6.473000   \n",
       "5      4.598710  4.943871  4.910323  ...  4.232581  4.101613  4.388710   \n",
       "6      4.311000  4.443000  4.228667  ...  4.611000  4.672000  5.475667   \n",
       "7      4.382903  4.190968  4.462903  ...  4.096129  4.125161  4.719032   \n",
       "8      3.900000  3.741290  3.625161  ...  3.149355  3.338065  3.878065   \n",
       "9      5.363333  5.366667  5.295667  ...  4.508000  4.523000  4.591000   \n",
       "10     6.819032  6.717097  6.495484  ...  5.202581  5.220968  5.395161   \n",
       "11     6.951000  7.041667  6.938000  ...  5.858333  5.670000  5.382667   \n",
       "12     7.033226  6.995161  7.107742  ...  6.049355  5.579032  5.518710   \n",
       "\n",
       "hour         17        18        19        20        21        22        23  \n",
       "month                                                                        \n",
       "1      6.269032  6.426129  6.875484  7.366452  7.694516  8.247419  8.687097  \n",
       "2      6.062759  6.132069  6.275862  6.509655  6.649310  6.730000  6.733448  \n",
       "3      5.572903  5.728387  6.223226  6.328065  6.468710  6.350645  6.395484  \n",
       "4      6.569000  7.130667  7.043667  7.626667  7.842667  7.666667  7.570000  \n",
       "5      5.011613  5.586774  5.930645  6.299677  5.833226  5.860323  5.576452  \n",
       "6      6.178000  6.249667  7.017667  7.139667  6.957333  6.535667  6.702000  \n",
       "7      5.132581  5.602581  6.334839  5.936774  6.178710  6.044839  6.018387  \n",
       "8      4.657419  5.418387  6.053226  5.873548  6.417097  5.980645  6.429355  \n",
       "9      5.109000  5.719667  6.067667  6.090000  6.190000  6.227667  6.190000  \n",
       "10     5.849355  6.106452  6.349032  6.660323  6.872581  7.050968  6.718387  \n",
       "11     5.416333  5.485667  5.512000  5.727667  6.155000  6.555000  6.853000  \n",
       "12     5.939677  6.160968  6.618065  6.630968  6.945806  7.296452  7.456129  \n",
       "\n",
       "[12 rows x 24 columns]"
      ]
     },
     "execution_count": 73,
     "metadata": {},
     "output_type": "execute_result"
    }
   ],
   "source": [
    "df = pd.DataFrame({'wspd': tseries}, index=time_index)\n",
    "df[\"year\"] = df.index.year\n",
    "df[\"month\"] = df.index.month\n",
    "df[\"day\"] = df.index.day\n",
    "df[\"hour\"] = df.index.hour\n",
    "\n",
    "agg = df.groupby([\"month\",\"hour\"]).mean()\n",
    "agg = agg.reset_index().pivot(index=\"month\",columns=\"hour\",values=\"wspd\")\n",
    "agg"
   ]
  },
  {
   "cell_type": "code",
   "execution_count": 75,
   "id": "54a39fa5",
   "metadata": {},
   "outputs": [
    {
     "data": {
      "text/html": [
       "<div>\n",
       "<style scoped>\n",
       "    .dataframe tbody tr th:only-of-type {\n",
       "        vertical-align: middle;\n",
       "    }\n",
       "\n",
       "    .dataframe tbody tr th {\n",
       "        vertical-align: top;\n",
       "    }\n",
       "\n",
       "    .dataframe thead th {\n",
       "        text-align: right;\n",
       "    }\n",
       "</style>\n",
       "<table border=\"1\" class=\"dataframe\">\n",
       "  <thead>\n",
       "    <tr style=\"text-align: right;\">\n",
       "      <th></th>\n",
       "      <th>wspd</th>\n",
       "      <th>year</th>\n",
       "      <th>month</th>\n",
       "      <th>day</th>\n",
       "      <th>hour</th>\n",
       "    </tr>\n",
       "  </thead>\n",
       "  <tbody>\n",
       "    <tr>\n",
       "      <th>2012-01-01 00:00:00</th>\n",
       "      <td>10.46</td>\n",
       "      <td>2012</td>\n",
       "      <td>1</td>\n",
       "      <td>1</td>\n",
       "      <td>0</td>\n",
       "    </tr>\n",
       "    <tr>\n",
       "      <th>2012-01-01 01:00:00</th>\n",
       "      <td>10.44</td>\n",
       "      <td>2012</td>\n",
       "      <td>1</td>\n",
       "      <td>1</td>\n",
       "      <td>1</td>\n",
       "    </tr>\n",
       "    <tr>\n",
       "      <th>2012-01-01 02:00:00</th>\n",
       "      <td>9.69</td>\n",
       "      <td>2012</td>\n",
       "      <td>1</td>\n",
       "      <td>1</td>\n",
       "      <td>2</td>\n",
       "    </tr>\n",
       "    <tr>\n",
       "      <th>2012-01-01 03:00:00</th>\n",
       "      <td>9.78</td>\n",
       "      <td>2012</td>\n",
       "      <td>1</td>\n",
       "      <td>1</td>\n",
       "      <td>3</td>\n",
       "    </tr>\n",
       "    <tr>\n",
       "      <th>2012-01-01 04:00:00</th>\n",
       "      <td>8.93</td>\n",
       "      <td>2012</td>\n",
       "      <td>1</td>\n",
       "      <td>1</td>\n",
       "      <td>4</td>\n",
       "    </tr>\n",
       "  </tbody>\n",
       "</table>\n",
       "</div>"
      ],
      "text/plain": [
       "                      wspd  year  month  day  hour\n",
       "2012-01-01 00:00:00  10.46  2012      1    1     0\n",
       "2012-01-01 01:00:00  10.44  2012      1    1     1\n",
       "2012-01-01 02:00:00   9.69  2012      1    1     2\n",
       "2012-01-01 03:00:00   9.78  2012      1    1     3\n",
       "2012-01-01 04:00:00   8.93  2012      1    1     4"
      ]
     },
     "execution_count": 75,
     "metadata": {},
     "output_type": "execute_result"
    }
   ],
   "source": [
    "df.head()"
   ]
  },
  {
   "cell_type": "code",
   "execution_count": 74,
   "id": "5bdbac97",
   "metadata": {},
   "outputs": [
    {
     "data": {
      "text/plain": [
       "<matplotlib.colorbar.Colorbar at 0x7f9c9f9bafd0>"
      ]
     },
     "execution_count": 74,
     "metadata": {},
     "output_type": "execute_result"
    },
    {
     "data": {
      "image/png": "[encoded data removed]",
      "text/plain": [
       "<Figure size 432x288 with 2 Axes>"
      ]
     },
     "metadata": {
      "needs_background": "light"
     },
     "output_type": "display_data"
    }
   ],
   "source": [
    "plt.imshow(agg)\n",
    "plt.xlabel(\"Hour\")\n",
    "plt.ylabel(\"Month\")\n",
    "plt.title(\"12 x 24 Mean Wind Speed (m/s)\")\n",
    "plt.colorbar()"
   ]
  },
  {
   "cell_type": "code",
   "execution_count": null,
   "id": "7c55a745",
   "metadata": {},
   "outputs": [],
   "source": []
  }
 ],
 "metadata": {
  "kernelspec": {
   "display_name": "Python 3",
   "language": "python",
   "name": "python3"
  },
  "language_info": {
   "codemirror_mode": {
    "name": "ipython",
    "version": 3
   },
   "file_extension": ".py",
   "mimetype": "text/x-python",
   "name": "python",
   "nbconvert_exporter": "python",
   "pygments_lexer": "ipython3",
   "version": "3.8.8"
  }
 },
 "nbformat": 4,
 "nbformat_minor": 5
}
