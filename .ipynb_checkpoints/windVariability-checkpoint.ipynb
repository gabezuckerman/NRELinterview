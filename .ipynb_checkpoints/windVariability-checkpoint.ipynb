{
 "cells": [
  {
   "cell_type": "markdown",
   "id": "fa56d4eb",
   "metadata": {},
   "source": [
    "# Technical task code"
   ]
  },
  {
   "cell_type": "markdown",
   "id": "fe550caa",
   "metadata": {},
   "source": [
    "## Loading in the data"
   ]
  },
  {
   "cell_type": "markdown",
   "id": "923b94ad",
   "metadata": {},
   "source": [
    "Importing libraries"
   ]
  },
  {
   "cell_type": "code",
   "execution_count": 1,
   "id": "a0d9eb65",
   "metadata": {},
   "outputs": [],
   "source": [
    "%matplotlib inline\n",
    "import h5pyd\n",
    "import numpy as np\n",
    "import pandas as pd\n",
    "import matplotlib.pyplot as plt\n",
    "import matplotlib.image as mpimg\n",
    "from scipy.spatial import cKDTree\n",
    "from scipy import stats\n",
    "import statistics\n",
    "import pvlib\n",
    "from datetime import datetime\n",
    "import seaborn as sns"
   ]
  },
  {
   "cell_type": "markdown",
   "id": "8d0c3d82",
   "metadata": {},
   "source": [
    "Getting US 2012 wind data from NREL AWS servers"
   ]
  },
  {
   "cell_type": "code",
   "execution_count": 2,
   "id": "1ca11a20",
   "metadata": {},
   "outputs": [],
   "source": [
    "f = h5pyd.File(\"/nrel/wtk/conus/wtk_conus_2012.h5\", 'r')"
   ]
  },
  {
   "cell_type": "markdown",
   "id": "1eb67110",
   "metadata": {},
   "source": [
    "Subsetting to just wind speed at an altitude of 10 meters"
   ]
  },
  {
   "cell_type": "code",
   "execution_count": 3,
   "id": "2491e705",
   "metadata": {},
   "outputs": [],
   "source": [
    "dset = f['windspeed_10m']"
   ]
  },
  {
   "cell_type": "markdown",
   "id": "df9fab5b",
   "metadata": {},
   "source": [
    "Extracting date and time index"
   ]
  },
  {
   "cell_type": "code",
   "execution_count": 4,
   "id": "44debb92",
   "metadata": {},
   "outputs": [
    {
     "data": {
      "text/plain": [
       "DatetimeIndex(['2012-01-01 00:00:00', '2012-01-01 01:00:00',\n",
       "               '2012-01-01 02:00:00', '2012-01-01 03:00:00',\n",
       "               '2012-01-01 04:00:00', '2012-01-01 05:00:00',\n",
       "               '2012-01-01 06:00:00', '2012-01-01 07:00:00',\n",
       "               '2012-01-01 08:00:00', '2012-01-01 09:00:00',\n",
       "               ...\n",
       "               '2012-12-31 14:00:00', '2012-12-31 15:00:00',\n",
       "               '2012-12-31 16:00:00', '2012-12-31 17:00:00',\n",
       "               '2012-12-31 18:00:00', '2012-12-31 19:00:00',\n",
       "               '2012-12-31 20:00:00', '2012-12-31 21:00:00',\n",
       "               '2012-12-31 22:00:00', '2012-12-31 23:00:00'],\n",
       "              dtype='datetime64[ns]', length=8784, freq=None)"
      ]
     },
     "execution_count": 4,
     "metadata": {},
     "output_type": "execute_result"
    }
   ],
   "source": [
    "time_index = pd.to_datetime(f['time_index'][...].astype(str))\n",
    "time_index # Temporal resolution is 1 hr"
   ]
  },
  {
   "cell_type": "markdown",
   "id": "dc9b1eea",
   "metadata": {},
   "source": [
    "Windspeeds need to be scaled by 100 to be in native value of meters per second"
   ]
  },
  {
   "cell_type": "code",
   "execution_count": 5,
   "id": "b8883af6",
   "metadata": {},
   "outputs": [
    {
     "data": {
      "text/plain": [
       "3.81"
      ]
     },
     "execution_count": 5,
     "metadata": {},
     "output_type": "execute_result"
    }
   ],
   "source": [
    "scale_factor = dset.attrs['scale_factor']\n",
    "dset[0,0]/scale_factor"
   ]
  },
  {
   "cell_type": "markdown",
   "id": "3394db5e",
   "metadata": {},
   "source": [
    "Subsetting the 10m altitude wind speed data to a single location in New York City and converting to a dataframe."
   ]
  },
  {
   "cell_type": "code",
   "execution_count": 6,
   "id": "47bbaf11",
   "metadata": {},
   "outputs": [
    {
     "name": "stdout",
     "output_type": "stream",
     "text": [
      "Site index for New York City: \t\t 2300564\n",
      "Coordinates of New York City: \t (40.7128, -74.0059)\n",
      "Coordinates of nearest point: \t [ 40.714733 -74.01636 ]\n"
     ]
    },
    {
     "data": {
      "text/html": [
       "<div>\n",
       "<style scoped>\n",
       "    .dataframe tbody tr th:only-of-type {\n",
       "        vertical-align: middle;\n",
       "    }\n",
       "\n",
       "    .dataframe tbody tr th {\n",
       "        vertical-align: top;\n",
       "    }\n",
       "\n",
       "    .dataframe thead th {\n",
       "        text-align: right;\n",
       "    }\n",
       "</style>\n",
       "<table border=\"1\" class=\"dataframe\">\n",
       "  <thead>\n",
       "    <tr style=\"text-align: right;\">\n",
       "      <th></th>\n",
       "      <th>wspd</th>\n",
       "      <th>year</th>\n",
       "      <th>month</th>\n",
       "      <th>day</th>\n",
       "      <th>hour</th>\n",
       "    </tr>\n",
       "  </thead>\n",
       "  <tbody>\n",
       "    <tr>\n",
       "      <th>2012-01-01 00:00:00</th>\n",
       "      <td>4.73</td>\n",
       "      <td>2012</td>\n",
       "      <td>1</td>\n",
       "      <td>1</td>\n",
       "      <td>0</td>\n",
       "    </tr>\n",
       "    <tr>\n",
       "      <th>2012-01-01 01:00:00</th>\n",
       "      <td>4.89</td>\n",
       "      <td>2012</td>\n",
       "      <td>1</td>\n",
       "      <td>1</td>\n",
       "      <td>1</td>\n",
       "    </tr>\n",
       "    <tr>\n",
       "      <th>2012-01-01 02:00:00</th>\n",
       "      <td>4.64</td>\n",
       "      <td>2012</td>\n",
       "      <td>1</td>\n",
       "      <td>1</td>\n",
       "      <td>2</td>\n",
       "    </tr>\n",
       "    <tr>\n",
       "      <th>2012-01-01 03:00:00</th>\n",
       "      <td>5.11</td>\n",
       "      <td>2012</td>\n",
       "      <td>1</td>\n",
       "      <td>1</td>\n",
       "      <td>3</td>\n",
       "    </tr>\n",
       "    <tr>\n",
       "      <th>2012-01-01 04:00:00</th>\n",
       "      <td>4.93</td>\n",
       "      <td>2012</td>\n",
       "      <td>1</td>\n",
       "      <td>1</td>\n",
       "      <td>4</td>\n",
       "    </tr>\n",
       "  </tbody>\n",
       "</table>\n",
       "</div>"
      ],
      "text/plain": [
       "                     wspd  year  month  day  hour\n",
       "2012-01-01 00:00:00  4.73  2012      1    1     0\n",
       "2012-01-01 01:00:00  4.89  2012      1    1     1\n",
       "2012-01-01 02:00:00  4.64  2012      1    1     2\n",
       "2012-01-01 03:00:00  5.11  2012      1    1     3\n",
       "2012-01-01 04:00:00  4.93  2012      1    1     4"
      ]
     },
     "execution_count": 6,
     "metadata": {},
     "output_type": "execute_result"
    }
   ],
   "source": [
    "dset_coords = f['coordinates'][...]\n",
    "tree = cKDTree(dset_coords)\n",
    "def nearest_site(tree, lat_coord, lon_coord):\n",
    "    lat_lon = np.array([lat_coord, lon_coord])\n",
    "    dist, pos = tree.query(lat_lon)\n",
    "    return pos\n",
    "\n",
    "NewYorkCity = (40.7128, -74.0059)\n",
    "NewYorkCity_idx = nearest_site(tree, NewYorkCity[0], NewYorkCity[1] )\n",
    "\n",
    "print(\"Site index for New York City: \\t\\t {}\".format(NewYorkCity_idx))\n",
    "print(\"Coordinates of New York City: \\t {}\".format(NewYorkCity))\n",
    "print(\"Coordinates of nearest point: \\t {}\".format(dset_coords[NewYorkCity_idx]))\n",
    "\n",
    "tseries = dset[:, NewYorkCity_idx] / dset.attrs['scale_factor']\n",
    "df = pd.DataFrame({'wspd': tseries}, index=time_index)\n",
    "df[\"year\"] = df.index.year\n",
    "df[\"month\"] = df.index.month\n",
    "df[\"day\"] = df.index.day\n",
    "df[\"hour\"] = df.index.hour\n",
    "\n",
    "df.head()"
   ]
  },
  {
   "cell_type": "markdown",
   "id": "7f3963b7",
   "metadata": {},
   "source": [
    "## Monthly wind speed variability"
   ]
  },
  {
   "cell_type": "markdown",
   "id": "0a07770f",
   "metadata": {},
   "source": [
    "The following plot shows the variation in windspeed across the months in New York City.  Based upon the monthy speed distributions, the fall and winter months seem to have the most variability."
   ]
  },
  {
   "cell_type": "code",
   "execution_count": 7,
   "id": "2ab2c2cd",
   "metadata": {},
   "outputs": [
    {
     "data": {
      "image/png": "[encoded data removed]",
      "text/plain": [
       "<Figure size 432x288 with 1 Axes>"
      ]
     },
     "metadata": {
      "needs_background": "light"
     },
     "output_type": "display_data"
    }
   ],
   "source": [
    "speedByMonth = [df.loc[df['month'] == month]['wspd'].values for month in np.arange(1, 13)]\n",
    "\n",
    "plt.boxplot(speedByMonth, boxprops={'zorder': 2})\n",
    "plt.title(\"Monthly variation in wind speed in NYC, 2012\")\n",
    "plt.ylabel(\"Wind speed (m/s)\")\n",
    "plt.xlabel(\"Month\")\n",
    "plt.xticks(np.arange(1, 13, 1),\n",
    "           ['Jan', 'Feb', 'Mar', 'Apr', 'May', 'Jun', 'Jul', 'Aug', 'Sep', 'Oct', 'Nov', 'Dec'])\n",
    "\n",
    "\n",
    "plt.violinplot(speedByMonth)\n",
    "plt.title(\"Monthly variation in wind speed in NYC, 2012\")\n",
    "plt.ylabel(\"Wind speed (m/s)\")\n",
    "plt.xlabel(\"Month\")\n",
    "plt.xticks(np.arange(1, 13, 1),\n",
    "           ['Jan', 'Feb', 'Mar', 'Apr', 'May', 'Jun', 'Jul', 'Aug', 'Sep', 'Oct', 'Nov', 'Dec'])\n",
    "\n",
    "plt.show()\n",
    "\n"
   ]
  },
  {
   "cell_type": "markdown",
   "id": "5b034b92",
   "metadata": {},
   "source": [
    "### Statistical measures of variability"
   ]
  },
  {
   "cell_type": "markdown",
   "id": "eb6ee8fe",
   "metadata": {},
   "source": [
    "Lee et al. (2018) recommend using the robust coefficient of variation (RCoV) to assess wind speed variability.  Despite Lee et al. (2018) suggesting that at least 10 years of records are needed to acheive high confidence , RCoV converged to the study period value relatively quickly, so it is still a useful metric for this purpose.  I also present Kurtosis and Skewness as they coverged in a single year."
   ]
  },
  {
   "cell_type": "code",
   "execution_count": 8,
   "id": "011f04de",
   "metadata": {},
   "outputs": [],
   "source": [
    "def rcov(vals):\n",
    "    return stats.median_abs_deviation(vals)/statistics.median(vals)"
   ]
  },
  {
   "cell_type": "markdown",
   "id": "fdffbd66",
   "metadata": {},
   "source": [
    "In order to maximise scalability, here is a function that takes in a set of coordinates, finds the closest 2x2km grid cell and calculates monthly RCoV for 2012."
   ]
  },
  {
   "cell_type": "code",
   "execution_count": 9,
   "id": "19b350d2",
   "metadata": {},
   "outputs": [],
   "source": [
    "dset_coords = f['coordinates'][...]\n",
    "tree = cKDTree(dset_coords)\n",
    "\n",
    "def getMonthlyRCoV2012(lat, lon):\n",
    "    idx = nearest_site(tree, lat, lon)\n",
    "    tseries = dset[:, idx] / dset.attrs['scale_factor']\n",
    "    df = pd.DataFrame({'wspd': tseries}, index=time_index)\n",
    "    df[\"year\"] = df.index.year\n",
    "    df[\"month\"] = df.index.month\n",
    "    \n",
    "    speedByMonth = [df.loc[df['month'] == month]['wspd'].values for month in np.arange(1, 13)]\n",
    "    \n",
    "    monthlyRCoVs = [rcov(speedByMonth[month]) for month in np.arange(0, 12, 1)]\n",
    "    d = {'month': ['Jan', 'Feb', 'Mar', 'Apr', 'May', 'Jun', 'Jul', 'Aug', 'Sep', 'Oct', 'Nov', 'Dec'],\n",
    "        'RCoV': monthlyRCoVs}\n",
    "    \n",
    "    return(pd.DataFrame(data=d).set_index(\"month\"))"
   ]
  },
  {
   "cell_type": "code",
   "execution_count": 10,
   "id": "f58e8d98",
   "metadata": {
    "scrolled": true
   },
   "outputs": [
    {
     "data": {
      "text/html": [
       "<div>\n",
       "<style scoped>\n",
       "    .dataframe tbody tr th:only-of-type {\n",
       "        vertical-align: middle;\n",
       "    }\n",
       "\n",
       "    .dataframe tbody tr th {\n",
       "        vertical-align: top;\n",
       "    }\n",
       "\n",
       "    .dataframe thead th {\n",
       "        text-align: right;\n",
       "    }\n",
       "</style>\n",
       "<table border=\"1\" class=\"dataframe\">\n",
       "  <thead>\n",
       "    <tr style=\"text-align: right;\">\n",
       "      <th></th>\n",
       "      <th>RCoV</th>\n",
       "    </tr>\n",
       "    <tr>\n",
       "      <th>month</th>\n",
       "      <th></th>\n",
       "    </tr>\n",
       "  </thead>\n",
       "  <tbody>\n",
       "    <tr>\n",
       "      <th>Jan</th>\n",
       "      <td>0.309013</td>\n",
       "    </tr>\n",
       "    <tr>\n",
       "      <th>Feb</th>\n",
       "      <td>0.353234</td>\n",
       "    </tr>\n",
       "    <tr>\n",
       "      <th>Mar</th>\n",
       "      <td>0.358170</td>\n",
       "    </tr>\n",
       "    <tr>\n",
       "      <th>Apr</th>\n",
       "      <td>0.313013</td>\n",
       "    </tr>\n",
       "    <tr>\n",
       "      <th>May</th>\n",
       "      <td>0.321311</td>\n",
       "    </tr>\n",
       "    <tr>\n",
       "      <th>Jun</th>\n",
       "      <td>0.339335</td>\n",
       "    </tr>\n",
       "    <tr>\n",
       "      <th>Jul</th>\n",
       "      <td>0.310296</td>\n",
       "    </tr>\n",
       "    <tr>\n",
       "      <th>Aug</th>\n",
       "      <td>0.302069</td>\n",
       "    </tr>\n",
       "    <tr>\n",
       "      <th>Sep</th>\n",
       "      <td>0.308168</td>\n",
       "    </tr>\n",
       "    <tr>\n",
       "      <th>Oct</th>\n",
       "      <td>0.379353</td>\n",
       "    </tr>\n",
       "    <tr>\n",
       "      <th>Nov</th>\n",
       "      <td>0.254813</td>\n",
       "    </tr>\n",
       "    <tr>\n",
       "      <th>Dec</th>\n",
       "      <td>0.346793</td>\n",
       "    </tr>\n",
       "  </tbody>\n",
       "</table>\n",
       "</div>"
      ],
      "text/plain": [
       "           RCoV\n",
       "month          \n",
       "Jan    0.309013\n",
       "Feb    0.353234\n",
       "Mar    0.358170\n",
       "Apr    0.313013\n",
       "May    0.321311\n",
       "Jun    0.339335\n",
       "Jul    0.310296\n",
       "Aug    0.302069\n",
       "Sep    0.308168\n",
       "Oct    0.379353\n",
       "Nov    0.254813\n",
       "Dec    0.346793"
      ]
     },
     "execution_count": 10,
     "metadata": {},
     "output_type": "execute_result"
    }
   ],
   "source": [
    "variability = getMonthlyRCoV2012(40.7128, -74.0059)\n",
    "variability"
   ]
  },
  {
   "cell_type": "code",
   "execution_count": 11,
   "id": "686b603a",
   "metadata": {},
   "outputs": [
    {
     "data": {
      "text/html": [
       "<div>\n",
       "<style scoped>\n",
       "    .dataframe tbody tr th:only-of-type {\n",
       "        vertical-align: middle;\n",
       "    }\n",
       "\n",
       "    .dataframe tbody tr th {\n",
       "        vertical-align: top;\n",
       "    }\n",
       "\n",
       "    .dataframe thead th {\n",
       "        text-align: right;\n",
       "    }\n",
       "</style>\n",
       "<table border=\"1\" class=\"dataframe\">\n",
       "  <thead>\n",
       "    <tr style=\"text-align: right;\">\n",
       "      <th></th>\n",
       "      <th>RCoV</th>\n",
       "      <th>skewness</th>\n",
       "      <th>kurtosis</th>\n",
       "    </tr>\n",
       "    <tr>\n",
       "      <th>month</th>\n",
       "      <th></th>\n",
       "      <th></th>\n",
       "      <th></th>\n",
       "    </tr>\n",
       "  </thead>\n",
       "  <tbody>\n",
       "    <tr>\n",
       "      <th>Jan</th>\n",
       "      <td>0.309013</td>\n",
       "      <td>0.494649</td>\n",
       "      <td>0.240412</td>\n",
       "    </tr>\n",
       "    <tr>\n",
       "      <th>Feb</th>\n",
       "      <td>0.353234</td>\n",
       "      <td>0.655812</td>\n",
       "      <td>0.418555</td>\n",
       "    </tr>\n",
       "    <tr>\n",
       "      <th>Mar</th>\n",
       "      <td>0.358170</td>\n",
       "      <td>0.499082</td>\n",
       "      <td>-0.018557</td>\n",
       "    </tr>\n",
       "    <tr>\n",
       "      <th>Apr</th>\n",
       "      <td>0.313013</td>\n",
       "      <td>0.373505</td>\n",
       "      <td>-0.415304</td>\n",
       "    </tr>\n",
       "    <tr>\n",
       "      <th>May</th>\n",
       "      <td>0.321311</td>\n",
       "      <td>0.662952</td>\n",
       "      <td>0.480785</td>\n",
       "    </tr>\n",
       "    <tr>\n",
       "      <th>Jun</th>\n",
       "      <td>0.339335</td>\n",
       "      <td>0.386360</td>\n",
       "      <td>-0.300816</td>\n",
       "    </tr>\n",
       "    <tr>\n",
       "      <th>Jul</th>\n",
       "      <td>0.310296</td>\n",
       "      <td>0.472735</td>\n",
       "      <td>0.219998</td>\n",
       "    </tr>\n",
       "    <tr>\n",
       "      <th>Aug</th>\n",
       "      <td>0.302069</td>\n",
       "      <td>0.408111</td>\n",
       "      <td>0.338530</td>\n",
       "    </tr>\n",
       "    <tr>\n",
       "      <th>Sep</th>\n",
       "      <td>0.308168</td>\n",
       "      <td>1.261366</td>\n",
       "      <td>3.538066</td>\n",
       "    </tr>\n",
       "    <tr>\n",
       "      <th>Oct</th>\n",
       "      <td>0.379353</td>\n",
       "      <td>1.641904</td>\n",
       "      <td>4.119829</td>\n",
       "    </tr>\n",
       "    <tr>\n",
       "      <th>Nov</th>\n",
       "      <td>0.254813</td>\n",
       "      <td>0.772042</td>\n",
       "      <td>1.121089</td>\n",
       "    </tr>\n",
       "    <tr>\n",
       "      <th>Dec</th>\n",
       "      <td>0.346793</td>\n",
       "      <td>1.040317</td>\n",
       "      <td>1.832508</td>\n",
       "    </tr>\n",
       "  </tbody>\n",
       "</table>\n",
       "</div>"
      ],
      "text/plain": [
       "           RCoV  skewness  kurtosis\n",
       "month                              \n",
       "Jan    0.309013  0.494649  0.240412\n",
       "Feb    0.353234  0.655812  0.418555\n",
       "Mar    0.358170  0.499082 -0.018557\n",
       "Apr    0.313013  0.373505 -0.415304\n",
       "May    0.321311  0.662952  0.480785\n",
       "Jun    0.339335  0.386360 -0.300816\n",
       "Jul    0.310296  0.472735  0.219998\n",
       "Aug    0.302069  0.408111  0.338530\n",
       "Sep    0.308168  1.261366  3.538066\n",
       "Oct    0.379353  1.641904  4.119829\n",
       "Nov    0.254813  0.772042  1.121089\n",
       "Dec    0.346793  1.040317  1.832508"
      ]
     },
     "execution_count": 11,
     "metadata": {},
     "output_type": "execute_result"
    }
   ],
   "source": [
    "speedByMonth = [df.loc[df['month'] == month]['wspd'].values for month in np.arange(1, 13)]\n",
    "\n",
    "#calculating monthly skewness\n",
    "monthlySkew = [stats.skew(speedByMonth[month]) for month in np.arange(0, 12, 1)]\n",
    "\n",
    "#calculating monthly kurtosis\n",
    "monthlyKurt = [stats.kurtosis(speedByMonth[month]) for month in np.arange(0, 12, 1)]\n",
    "\n",
    "#adding to table\n",
    "variability['skewness'] = monthlySkew\n",
    "variability['kurtosis'] = monthlyKurt\n",
    "variability\n"
   ]
  },
  {
   "cell_type": "markdown",
   "id": "eb3edc01",
   "metadata": {},
   "source": [
    "All the metrics indicate high wind speed variability in October.  Interestingly, the metrics differ for September: both Skewness and Kurtosis have high measures while RCoV has a relatively low measure.  This is likely because of the relatively clumped distribution of the outlying windspeed records."
   ]
  },
  {
   "cell_type": "code",
   "execution_count": 12,
   "id": "58a0cf26",
   "metadata": {},
   "outputs": [
    {
     "data": {
      "image/png": "[encoded data removed]",
      "text/plain": [
       "<Figure size 432x288 with 1 Axes>"
      ]
     },
     "metadata": {
      "needs_background": "light"
     },
     "output_type": "display_data"
    },
    {
     "data": {
      "image/png": "[encoded data removed]",
      "text/plain": [
       "<Figure size 432x288 with 1 Axes>"
      ]
     },
     "metadata": {
      "needs_background": "light"
     },
     "output_type": "display_data"
    },
    {
     "data": {
      "image/png": "[encoded data removed]",
      "text/plain": [
       "<Figure size 432x288 with 1 Axes>"
      ]
     },
     "metadata": {
      "needs_background": "light"
     },
     "output_type": "display_data"
    }
   ],
   "source": [
    "plt.plot(variability['RCoV'])\n",
    "plt.title('Wind speed variability metrics by month, NYC 2012')\n",
    "plt.ylabel('RCov')\n",
    "plt.show()\n",
    "plt.plot(variability['skewness'])\n",
    "plt.ylabel('Skewness')\n",
    "plt.show()\n",
    "plt.plot(variability['kurtosis'])\n",
    "plt.ylabel('Kurtosis')\n",
    "plt.xlabel('Month')\n",
    "plt.show()"
   ]
  },
  {
   "cell_type": "markdown",
   "id": "7fd0b213",
   "metadata": {},
   "source": [
    "### Combined hourly and monthly variability"
   ]
  },
  {
   "cell_type": "markdown",
   "id": "b1c414b3",
   "metadata": {},
   "source": [
    "The following plots show the average hourly wind speeds and RCoVs for 2012 in New York City.  It regularly seems to be windier at night, with summer months have slower winds especially during the days.  There seems to be generally lower variability at night."
   ]
  },
  {
   "cell_type": "code",
   "execution_count": 13,
   "id": "7e02c701",
   "metadata": {},
   "outputs": [
    {
     "data": {
      "image/png": "[encoded data removed]",
      "text/plain": [
       "<Figure size 432x288 with 2 Axes>"
      ]
     },
     "metadata": {
      "needs_background": "light"
     },
     "output_type": "display_data"
    },
    {
     "data": {
      "image/png": "[encoded data removed]",
      "text/plain": [
       "<Figure size 432x288 with 2 Axes>"
      ]
     },
     "metadata": {
      "needs_background": "light"
     },
     "output_type": "display_data"
    }
   ],
   "source": [
    "aggSpeed = df.groupby([\"month\",\"hour\"]).mean()\n",
    "aggSpeed = aggSpeed.reset_index().pivot(index=\"month\",columns=\"hour\",values=\"wspd\")\n",
    "\n",
    "plt.imshow(aggSpeed)\n",
    "plt.xlabel(\"Hour\")\n",
    "plt.ylabel(\"Month\")\n",
    "plt.yticks(np.arange(0, 12, 1),\n",
    "           ['Jan', 'Feb', 'Mar', 'Apr', 'May', 'Jun', 'Jul', 'Aug', 'Sep', 'Oct', 'Nov', 'Dec'])\n",
    "plt.title(\"Mean Hourly Wind Speed (m/s) \\n in New York City (2012)\")\n",
    "plt.colorbar()\n",
    "plt.show()\n",
    "\n",
    "aggRCov = df[['wspd', 'month', 'hour']]\n",
    "aggRCov = aggRCov.groupby([\"month\",\"hour\"]).agg(lambda x: rcov(x)).rename(columns = {'wspd':'rcov'})\n",
    "aggRCov = aggRCov.reset_index().pivot(index=\"month\",columns=\"hour\",values=\"rcov\")\n",
    "\n",
    "plt.imshow(aggRCov, cmap = 'plasma')\n",
    "plt.xlabel(\"Hour\")\n",
    "plt.ylabel(\"Month\")\n",
    "plt.yticks(np.arange(0, 12, 1),\n",
    "           ['Jan', 'Feb', 'Mar', 'Apr', 'May', 'Jun', 'Jul', 'Aug', 'Sep', 'Oct', 'Nov', 'Dec'])\n",
    "plt.title(\"Hourly Wind Speed RCoV \\n in New York City (2012)\")\n",
    "plt.colorbar()\n",
    "plt.show()\n",
    "\n"
   ]
  },
  {
   "cell_type": "markdown",
   "id": "ab279581",
   "metadata": {},
   "source": [
    "## Diurnal variability"
   ]
  },
  {
   "cell_type": "markdown",
   "id": "987b9928",
   "metadata": {},
   "source": [
    "The first step is to differentiate day and night times based off of our site location and time."
   ]
  },
  {
   "cell_type": "code",
   "execution_count": 14,
   "id": "9f8ca5eb",
   "metadata": {},
   "outputs": [
    {
     "data": {
      "text/html": [
       "<div>\n",
       "<style scoped>\n",
       "    .dataframe tbody tr th:only-of-type {\n",
       "        vertical-align: middle;\n",
       "    }\n",
       "\n",
       "    .dataframe tbody tr th {\n",
       "        vertical-align: top;\n",
       "    }\n",
       "\n",
       "    .dataframe thead th {\n",
       "        text-align: right;\n",
       "    }\n",
       "</style>\n",
       "<table border=\"1\" class=\"dataframe\">\n",
       "  <thead>\n",
       "    <tr style=\"text-align: right;\">\n",
       "      <th></th>\n",
       "      <th>wspd</th>\n",
       "      <th>year</th>\n",
       "      <th>month</th>\n",
       "      <th>day</th>\n",
       "      <th>hour</th>\n",
       "      <th>sunrise</th>\n",
       "      <th>sunset</th>\n",
       "      <th>daytime</th>\n",
       "    </tr>\n",
       "  </thead>\n",
       "  <tbody>\n",
       "    <tr>\n",
       "      <th>2012-01-01 00:00:00</th>\n",
       "      <td>4.73</td>\n",
       "      <td>2012</td>\n",
       "      <td>1</td>\n",
       "      <td>1</td>\n",
       "      <td>0</td>\n",
       "      <td>7</td>\n",
       "      <td>17</td>\n",
       "      <td>False</td>\n",
       "    </tr>\n",
       "    <tr>\n",
       "      <th>2012-01-01 01:00:00</th>\n",
       "      <td>4.89</td>\n",
       "      <td>2012</td>\n",
       "      <td>1</td>\n",
       "      <td>1</td>\n",
       "      <td>1</td>\n",
       "      <td>7</td>\n",
       "      <td>17</td>\n",
       "      <td>False</td>\n",
       "    </tr>\n",
       "    <tr>\n",
       "      <th>2012-01-01 02:00:00</th>\n",
       "      <td>4.64</td>\n",
       "      <td>2012</td>\n",
       "      <td>1</td>\n",
       "      <td>1</td>\n",
       "      <td>2</td>\n",
       "      <td>7</td>\n",
       "      <td>17</td>\n",
       "      <td>False</td>\n",
       "    </tr>\n",
       "    <tr>\n",
       "      <th>2012-01-01 03:00:00</th>\n",
       "      <td>5.11</td>\n",
       "      <td>2012</td>\n",
       "      <td>1</td>\n",
       "      <td>1</td>\n",
       "      <td>3</td>\n",
       "      <td>7</td>\n",
       "      <td>17</td>\n",
       "      <td>False</td>\n",
       "    </tr>\n",
       "    <tr>\n",
       "      <th>2012-01-01 04:00:00</th>\n",
       "      <td>4.93</td>\n",
       "      <td>2012</td>\n",
       "      <td>1</td>\n",
       "      <td>1</td>\n",
       "      <td>4</td>\n",
       "      <td>7</td>\n",
       "      <td>17</td>\n",
       "      <td>False</td>\n",
       "    </tr>\n",
       "    <tr>\n",
       "      <th>2012-01-01 05:00:00</th>\n",
       "      <td>5.28</td>\n",
       "      <td>2012</td>\n",
       "      <td>1</td>\n",
       "      <td>1</td>\n",
       "      <td>5</td>\n",
       "      <td>7</td>\n",
       "      <td>17</td>\n",
       "      <td>False</td>\n",
       "    </tr>\n",
       "    <tr>\n",
       "      <th>2012-01-01 06:00:00</th>\n",
       "      <td>5.51</td>\n",
       "      <td>2012</td>\n",
       "      <td>1</td>\n",
       "      <td>1</td>\n",
       "      <td>6</td>\n",
       "      <td>7</td>\n",
       "      <td>17</td>\n",
       "      <td>False</td>\n",
       "    </tr>\n",
       "    <tr>\n",
       "      <th>2012-01-01 07:00:00</th>\n",
       "      <td>3.17</td>\n",
       "      <td>2012</td>\n",
       "      <td>1</td>\n",
       "      <td>1</td>\n",
       "      <td>7</td>\n",
       "      <td>7</td>\n",
       "      <td>17</td>\n",
       "      <td>False</td>\n",
       "    </tr>\n",
       "    <tr>\n",
       "      <th>2012-01-01 08:00:00</th>\n",
       "      <td>1.31</td>\n",
       "      <td>2012</td>\n",
       "      <td>1</td>\n",
       "      <td>1</td>\n",
       "      <td>8</td>\n",
       "      <td>7</td>\n",
       "      <td>17</td>\n",
       "      <td>True</td>\n",
       "    </tr>\n",
       "    <tr>\n",
       "      <th>2012-01-01 09:00:00</th>\n",
       "      <td>2.25</td>\n",
       "      <td>2012</td>\n",
       "      <td>1</td>\n",
       "      <td>1</td>\n",
       "      <td>9</td>\n",
       "      <td>7</td>\n",
       "      <td>17</td>\n",
       "      <td>True</td>\n",
       "    </tr>\n",
       "  </tbody>\n",
       "</table>\n",
       "</div>"
      ],
      "text/plain": [
       "                     wspd  year  month  day  hour  sunrise  sunset  daytime\n",
       "2012-01-01 00:00:00  4.73  2012      1    1     0        7      17    False\n",
       "2012-01-01 01:00:00  4.89  2012      1    1     1        7      17    False\n",
       "2012-01-01 02:00:00  4.64  2012      1    1     2        7      17    False\n",
       "2012-01-01 03:00:00  5.11  2012      1    1     3        7      17    False\n",
       "2012-01-01 04:00:00  4.93  2012      1    1     4        7      17    False\n",
       "2012-01-01 05:00:00  5.28  2012      1    1     5        7      17    False\n",
       "2012-01-01 06:00:00  5.51  2012      1    1     6        7      17    False\n",
       "2012-01-01 07:00:00  3.17  2012      1    1     7        7      17    False\n",
       "2012-01-01 08:00:00  1.31  2012      1    1     8        7      17     True\n",
       "2012-01-01 09:00:00  2.25  2012      1    1     9        7      17     True"
      ]
     },
     "execution_count": 14,
     "metadata": {},
     "output_type": "execute_result"
    }
   ],
   "source": [
    "#reading in sunrise and sunset data\n",
    "sunriseSunset = pvlib.solarposition.sun_rise_set_transit_ephem(df.index.tz_localize('EST') , 40.7128, -74.0059)\n",
    "\n",
    "#data is hourly, so only need the hour from above table\n",
    "df['sunrise'] = sunriseSunset['sunrise'].dt.hour.values\n",
    "#without +1 a sunset at 4:14pm would mark timestamp of 4 pm as night, even though it is before 4:14pm\n",
    "df['sunset'] = sunriseSunset['sunset'].dt.hour.values + 1 \n",
    "afterSunrise = df['hour'] > df['sunrise']\n",
    "beforeSunset = df['hour'] < df['sunset']\n",
    "\n",
    "#daytime accounts for the changes in time across the year\n",
    "df['daytime'] = afterSunrise.values & beforeSunset.values\n",
    "df.head(10)"
   ]
  },
  {
   "cell_type": "markdown",
   "id": "c6f34292",
   "metadata": {},
   "source": [
    "The following plot shows the variation in day and night wind speeds across the months of 2012.  There does not seem to be strong difference between day and night average wind speeds. "
   ]
  },
  {
   "cell_type": "code",
   "execution_count": 26,
   "id": "353baad9",
   "metadata": {},
   "outputs": [
    {
     "data": {
      "image/png": "[encoded data removed]",
      "text/plain": [
       "<Figure size 432x288 with 1 Axes>"
      ]
     },
     "metadata": {
      "needs_background": "light"
     },
     "output_type": "display_data"
    }
   ],
   "source": [
    "day = df[df['daytime'] == True][['wspd', 'month']].reset_index(drop = True)\n",
    "day['Time'] = 'day'\n",
    "night = df[df['daytime'] == False][['wspd', 'month']].reset_index(drop = True)\n",
    "night['Time'] = 'night'\n",
    "\n",
    "dayNight = pd.concat([day, night])\n",
    "\n",
    "sns.boxplot(x='month',y='wspd',data=dayNight,hue='Time')\n",
    "\n",
    "plt.xticks(np.arange(0, 12, 1),\n",
    "           ['Jan', 'Feb', 'Mar', 'Apr', 'May', 'Jun', 'Jul', 'Aug', 'Sep', 'Oct', 'Nov', 'Dec'])\n",
    "plt.ylabel(\"Wind speed (m/s)\")\n",
    "plt.xlabel(\"\")\n",
    "\n",
    "plt.show()\n"
   ]
  },
  {
   "cell_type": "markdown",
   "id": "cece5b50",
   "metadata": {},
   "source": [
    "However, when looking at variability in wind speed during the day and night, we see a slightly different picture. Summer and fall months (except August) seem to have the greatest differences in variability."
   ]
  },
  {
   "cell_type": "code",
   "execution_count": 57,
   "id": "4757b981",
   "metadata": {},
   "outputs": [],
   "source": [
    "#adapting function to calculate RCoV for day and night separately\n",
    "\n",
    "dset_coords = f['coordinates'][...]\n",
    "tree = cKDTree(dset_coords)\n",
    "\n",
    "def getMonthlyRCoV2012dayNight(lat, lon, tz):\n",
    "    idx = nearest_site(tree, lat, lon)\n",
    "    tseries = dset[:, idx] / dset.attrs['scale_factor']\n",
    "    df = pd.DataFrame({'wspd': tseries}, index=time_index)\n",
    "    df[\"year\"] = df.index.year\n",
    "    df[\"month\"] = df.index.month\n",
    "    df[\"hour\"] = df.index.hour\n",
    "\n",
    "    #reading in sunrise and sunset data\n",
    "    sunriseSunset = pvlib.solarposition.sun_rise_set_transit_ephem(df.index.tz_localize(tz) , lat, lon)\n",
    "\n",
    "    #data is hourly, so only need the hour from above table\n",
    "    df['sunrise'] = sunriseSunset['sunrise'].dt.hour.values\n",
    "    #without +1 a sunset at 4:14pm would mark timestamp of 4 pm as night, even though it is before 4:14pm\n",
    "    df['sunset'] = sunriseSunset['sunset'].dt.hour.values + 1 \n",
    "    afterSunrise = df['hour'] > df['sunrise']\n",
    "    beforeSunset = df['hour'] < df['sunset']\n",
    "\n",
    "    #daytime accounts for the changes in time across the year\n",
    "    df['daytime'] = afterSunrise.values & beforeSunset.values\n",
    "\n",
    "    #splitting into day and night\n",
    "    day = df[df['daytime'] == True]\n",
    "    night = df[df['daytime'] == False]\n",
    "    speedByMonthDay = [day.loc[day['month'] == month]['wspd'].values for month in np.arange(1, 13)]\n",
    "    speedByMonthNight = [night.loc[night['month'] == month]['wspd'].values for month in np.arange(1, 13)]\n",
    "\n",
    "    #calculating RCoV for day and night separately\n",
    "    daytimeMonthlyRCoVs = [rcov(speedByMonthDay[month]) for month in np.arange(0, 12, 1)]\n",
    "    nightMonthlyRCoVs = [rcov(speedByMonthNight[month]) for month in np.arange(0, 12, 1)]\n",
    "    d = {'month': ['Jan', 'Feb', 'Mar', 'Apr', 'May', 'Jun', 'Jul', 'Aug', 'Sep', 'Oct', 'Nov', 'Dec'],\n",
    "            'dayRCoV': daytimeMonthlyRCoVs,\n",
    "            'nightRCoV': nightMonthlyRCoVs}\n",
    "    return(pd.DataFrame(data=d).set_index(\"month\"))"
   ]
  },
  {
   "cell_type": "code",
   "execution_count": 58,
   "id": "f9f8dd66",
   "metadata": {},
   "outputs": [
    {
     "data": {
      "image/png": "[encoded data removed]",
      "text/plain": [
       "<Figure size 432x288 with 1 Axes>"
      ]
     },
     "metadata": {
      "needs_background": "light"
     },
     "output_type": "display_data"
    }
   ],
   "source": [
    "fig, ax = plt.subplots()\n",
    "lines = ax.plot(getMonthlyRCoV2012dayNight(40, -74, 'EST'))\n",
    "ax.legend(['day', 'night'])\n",
    "plt.ylabel('RCoV')\n",
    "plt.show()\n"
   ]
  },
  {
   "cell_type": "code",
   "execution_count": null,
   "id": "062de296",
   "metadata": {},
   "outputs": [],
   "source": []
  }
 ],
 "metadata": {
  "kernelspec": {
   "display_name": "Python 3",
   "language": "python",
   "name": "python3"
  },
  "language_info": {
   "codemirror_mode": {
    "name": "ipython",
    "version": 3
   },
   "file_extension": ".py",
   "mimetype": "text/x-python",
   "name": "python",
   "nbconvert_exporter": "python",
   "pygments_lexer": "ipython3",
   "version": "3.8.8"
  }
 },
 "nbformat": 4,
 "nbformat_minor": 5
}
