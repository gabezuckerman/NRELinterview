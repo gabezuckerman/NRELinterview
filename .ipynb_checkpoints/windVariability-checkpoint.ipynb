{
 "cells": [
  {
   "cell_type": "markdown",
   "id": "fa56d4eb",
   "metadata": {},
   "source": [
    "# Technical task code"
   ]
  },
  {
   "cell_type": "markdown",
   "id": "fe550caa",
   "metadata": {},
   "source": [
    "## Loading in the data"
   ]
  },
  {
   "cell_type": "markdown",
   "id": "923b94ad",
   "metadata": {},
   "source": [
    "Importing libraries"
   ]
  },
  {
   "cell_type": "code",
   "execution_count": 11,
   "id": "a0d9eb65",
   "metadata": {},
   "outputs": [],
   "source": [
    "%matplotlib inline\n",
    "import h5pyd\n",
    "import numpy as np\n",
    "import pandas as pd\n",
    "import matplotlib.pyplot as plt\n",
    "import matplotlib.image as mpimg\n",
    "from scipy.spatial import cKDTree\n",
    "from scipy import stats\n",
    "import statistics\n",
    "import pvlib\n",
    "from datetime import datetime\n",
    "import seaborn as sns"
   ]
  },
  {
   "cell_type": "markdown",
   "id": "8d0c3d82",
   "metadata": {},
   "source": [
    "Getting US 2012 wind data from NREL AWS servers"
   ]
  },
  {
   "cell_type": "code",
   "execution_count": 12,
   "id": "1ca11a20",
   "metadata": {},
   "outputs": [],
   "source": [
    "f = h5pyd.File(\"/nrel/wtk/conus/wtk_conus_2012.h5\", 'r')"
   ]
  },
  {
   "cell_type": "markdown",
   "id": "1eb67110",
   "metadata": {},
   "source": [
    "Subsetting to just wind speed at an altitude of 10 meters"
   ]
  },
  {
   "cell_type": "code",
   "execution_count": 13,
   "id": "2491e705",
   "metadata": {},
   "outputs": [],
   "source": [
    "dset = f['windspeed_10m']"
   ]
  },
  {
   "cell_type": "markdown",
   "id": "df9fab5b",
   "metadata": {},
   "source": [
    "Extracting date and time index"
   ]
  },
  {
   "cell_type": "code",
   "execution_count": null,
   "id": "44debb92",
   "metadata": {},
   "outputs": [],
   "source": [
    "time_index = pd.to_datetime(f['time_index'][...].astype(str))\n",
    "time_index # Temporal resolution is 1 hr"
   ]
  },
  {
   "cell_type": "markdown",
   "id": "dc9b1eea",
   "metadata": {},
   "source": [
    "Windspeeds need to be scaled by 100 to be in native value of meters per second"
   ]
  },
  {
   "cell_type": "code",
   "execution_count": null,
   "id": "b8883af6",
   "metadata": {},
   "outputs": [],
   "source": [
    "scale_factor = dset.attrs['scale_factor']\n",
    "dset[0,0]/scale_factor"
   ]
  },
  {
   "cell_type": "markdown",
   "id": "3394db5e",
   "metadata": {},
   "source": [
    "Subsetting the 10m altitude wind speed data to a single location in New York City and converting to a dataframe."
   ]
  },
  {
   "cell_type": "code",
   "execution_count": null,
   "id": "47bbaf11",
   "metadata": {},
   "outputs": [],
   "source": [
    "dset_coords = f['coordinates'][...]\n",
    "tree = cKDTree(dset_coords)\n",
    "def nearest_site(tree, lat_coord, lon_coord):\n",
    "    lat_lon = np.array([lat_coord, lon_coord])\n",
    "    dist, pos = tree.query(lat_lon)\n",
    "    return pos\n",
    "\n",
    "NewYorkCity = (40.7128, -74.0059)\n",
    "NewYorkCity_idx = nearest_site(tree, NewYorkCity[0], NewYorkCity[1] )\n",
    "\n",
    "print(\"Site index for New York City: \\t\\t {}\".format(NewYorkCity_idx))\n",
    "print(\"Coordinates of New York City: \\t {}\".format(NewYorkCity))\n",
    "print(\"Coordinates of nearest point: \\t {}\".format(dset_coords[NewYorkCity_idx]))\n",
    "\n",
    "tseries = dset[:, NewYorkCity_idx] / dset.attrs['scale_factor']\n",
    "df = pd.DataFrame({'wspd': tseries}, index=time_index)\n",
    "df[\"year\"] = df.index.year\n",
    "df[\"month\"] = df.index.month\n",
    "df[\"day\"] = df.index.day\n",
    "df[\"hour\"] = df.index.hour\n",
    "\n",
    "df.head()"
   ]
  },
  {
   "cell_type": "markdown",
   "id": "7f3963b7",
   "metadata": {},
   "source": [
    "## Monthly wind speed variability"
   ]
  },
  {
   "cell_type": "markdown",
   "id": "0a07770f",
   "metadata": {},
   "source": [
    "The following plot shows the variation in windspeed across the months in New York City.  Based upon the monthy speed distributions, the fall and winter months seem to have the most variability."
   ]
  },
  {
   "cell_type": "code",
   "execution_count": null,
   "id": "2ab2c2cd",
   "metadata": {},
   "outputs": [],
   "source": [
    "speedByMonth = [df.loc[df['month'] == month]['wspd'].values for month in np.arange(1, 13)]\n",
    "\n",
    "plt.boxplot(speedByMonth, boxprops={'zorder': 2})\n",
    "plt.title(\"Monthly variation in wind speed in NYC, 2012\")\n",
    "plt.ylabel(\"Wind speed (m/s)\")\n",
    "plt.xlabel(\"Month\")\n",
    "plt.xticks(np.arange(1, 13, 1),\n",
    "           ['Jan', 'Feb', 'Mar', 'Apr', 'May', 'Jun', 'Jul', 'Aug', 'Sep', 'Oct', 'Nov', 'Dec'])\n",
    "\n",
    "\n",
    "plt.violinplot(speedByMonth)\n",
    "plt.title(\"Monthly variation in wind speed in NYC, 2012\")\n",
    "plt.ylabel(\"Wind speed (m/s)\")\n",
    "plt.xlabel(\"Month\")\n",
    "plt.xticks(np.arange(1, 13, 1),\n",
    "           ['Jan', 'Feb', 'Mar', 'Apr', 'May', 'Jun', 'Jul', 'Aug', 'Sep', 'Oct', 'Nov', 'Dec'])\n",
    "\n",
    "plt.show()\n",
    "\n"
   ]
  },
  {
   "cell_type": "markdown",
   "id": "5b034b92",
   "metadata": {},
   "source": [
    "### Statistical measures of variability"
   ]
  },
  {
   "cell_type": "markdown",
   "id": "eb6ee8fe",
   "metadata": {},
   "source": [
    "Lee et al. (2018) recommend using the robust coefficient of variation (RCoV) to assess wind speed variability.  Despite Lee et al. (2018) suggesting that at least 10 years of records are needed to acheive high confidence , RCoV converged to the study period value relatively quickly, so it is still a useful metric for this purpose.  I also present Kurtosis and Skewness as they coverged in a single year."
   ]
  },
  {
   "cell_type": "code",
   "execution_count": null,
   "id": "011f04de",
   "metadata": {},
   "outputs": [],
   "source": [
    "def rcov(vals):\n",
    "    return stats.median_abs_deviation(vals)/statistics.median(vals)"
   ]
  },
  {
   "cell_type": "markdown",
   "id": "fdffbd66",
   "metadata": {},
   "source": [
    "In order to maximise scalability, here is a function that takes in a set of coordinates, finds the closest 2x2km grid cell and calculates monthly RCoV for 2012."
   ]
  },
  {
   "cell_type": "code",
   "execution_count": null,
   "id": "19b350d2",
   "metadata": {},
   "outputs": [],
   "source": [
    "dset_coords = f['coordinates'][...]\n",
    "tree = cKDTree(dset_coords)\n",
    "\n",
    "def getMonthlyRCoV2012(lat, lon):\n",
    "    idx = nearest_site(tree, lat, lon)\n",
    "    tseries = dset[:, idx] / dset.attrs['scale_factor']\n",
    "    df = pd.DataFrame({'wspd': tseries}, index=time_index)\n",
    "    df[\"year\"] = df.index.year\n",
    "    df[\"month\"] = df.index.month\n",
    "    \n",
    "    speedByMonth = [df.loc[df['month'] == month]['wspd'].values for month in np.arange(1, 13)]\n",
    "    \n",
    "    monthlyRCoVs = [rcov(speedByMonth[month]) for month in np.arange(0, 12, 1)]\n",
    "    d = {'month': ['Jan', 'Feb', 'Mar', 'Apr', 'May', 'Jun', 'Jul', 'Aug', 'Sep', 'Oct', 'Nov', 'Dec'],\n",
    "        'RCoV': monthlyRCoVs}\n",
    "    \n",
    "    return(pd.DataFrame(data=d).set_index(\"month\"))"
   ]
  },
  {
   "cell_type": "code",
   "execution_count": null,
   "id": "f58e8d98",
   "metadata": {
    "scrolled": true
   },
   "outputs": [],
   "source": [
    "variability = getMonthlyRCoV2012(40.7128, -74.0059)\n",
    "variability"
   ]
  },
  {
   "cell_type": "code",
   "execution_count": null,
   "id": "686b603a",
   "metadata": {},
   "outputs": [],
   "source": [
    "speedByMonth = [df.loc[df['month'] == month]['wspd'].values for month in np.arange(1, 13)]\n",
    "\n",
    "#calculating monthly skewness\n",
    "monthlySkew = [stats.skew(speedByMonth[month]) for month in np.arange(0, 12, 1)]\n",
    "\n",
    "#calculating monthly kurtosis\n",
    "monthlyKurt = [stats.kurtosis(speedByMonth[month]) for month in np.arange(0, 12, 1)]\n",
    "\n",
    "#adding to table\n",
    "variability['skewness'] = monthlySkew\n",
    "variability['kurtosis'] = monthlyKurt\n",
    "variability\n"
   ]
  },
  {
   "cell_type": "markdown",
   "id": "eb3edc01",
   "metadata": {},
   "source": [
    "All the metrics indicate high wind speed variability in October.  Interestingly, the metrics differ for September: both Skewness and Kurtosis have high measures while RCoV has a relatively low measure.  This is likely because of the relatively clumped distribution of the outlying windspeed records."
   ]
  },
  {
   "cell_type": "code",
   "execution_count": null,
   "id": "58a0cf26",
   "metadata": {},
   "outputs": [],
   "source": [
    "plt.plot(variability['RCoV'])\n",
    "plt.title('Wind speed variability metrics by month, NYC 2012')\n",
    "plt.ylabel('RCov')\n",
    "plt.show()\n",
    "plt.plot(variability['skewness'])\n",
    "plt.ylabel('Skewness')\n",
    "plt.show()\n",
    "plt.plot(variability['kurtosis'])\n",
    "plt.ylabel('Kurtosis')\n",
    "plt.xlabel('Month')\n",
    "plt.show()"
   ]
  },
  {
   "cell_type": "markdown",
   "id": "7fd0b213",
   "metadata": {},
   "source": [
    "### Combined hourly and monthly variability"
   ]
  },
  {
   "cell_type": "markdown",
   "id": "b1c414b3",
   "metadata": {},
   "source": [
    "The following plots show the average hourly wind speeds and RCoVs for 2012 in New York City.  It regularly seems to be windier at night, with summer months have slower winds especially during the days.  There seems to be generally lower variability at night."
   ]
  },
  {
   "cell_type": "code",
   "execution_count": null,
   "id": "7e02c701",
   "metadata": {},
   "outputs": [],
   "source": [
    "aggSpeed = df.groupby([\"month\",\"hour\"]).mean()\n",
    "aggSpeed = aggSpeed.reset_index().pivot(index=\"month\",columns=\"hour\",values=\"wspd\")\n",
    "\n",
    "plt.imshow(aggSpeed)\n",
    "plt.xlabel(\"Hour\")\n",
    "plt.ylabel(\"Month\")\n",
    "plt.yticks(np.arange(0, 12, 1),\n",
    "           ['Jan', 'Feb', 'Mar', 'Apr', 'May', 'Jun', 'Jul', 'Aug', 'Sep', 'Oct', 'Nov', 'Dec'])\n",
    "plt.title(\"Mean Hourly Wind Speed (m/s) \\n in New York City (2012)\")\n",
    "plt.colorbar()\n",
    "plt.show()\n",
    "\n",
    "aggRCov = df[['wspd', 'month', 'hour']]\n",
    "aggRCov = aggRCov.groupby([\"month\",\"hour\"]).agg(lambda x: rcov(x)).rename(columns = {'wspd':'rcov'})\n",
    "aggRCov = aggRCov.reset_index().pivot(index=\"month\",columns=\"hour\",values=\"rcov\")\n",
    "\n",
    "plt.imshow(aggRCov, cmap = 'plasma')\n",
    "plt.xlabel(\"Hour\")\n",
    "plt.ylabel(\"Month\")\n",
    "plt.yticks(np.arange(0, 12, 1),\n",
    "           ['Jan', 'Feb', 'Mar', 'Apr', 'May', 'Jun', 'Jul', 'Aug', 'Sep', 'Oct', 'Nov', 'Dec'])\n",
    "plt.title(\"Hourly Wind Speed RCoV \\n in New York City (2012)\")\n",
    "plt.colorbar()\n",
    "plt.show()\n",
    "\n"
   ]
  },
  {
   "cell_type": "code",
   "execution_count": null,
   "id": "4e16b712",
   "metadata": {},
   "outputs": [],
   "source": [
    "#add plot here scatterplot of mean monthly wind (Y) speeds and monthly RCoVs (x) to show best months to have generate power"
   ]
  },
  {
   "cell_type": "markdown",
   "id": "ab279581",
   "metadata": {},
   "source": [
    "## Diurnal variability"
   ]
  },
  {
   "cell_type": "markdown",
   "id": "987b9928",
   "metadata": {},
   "source": [
    "The first step is to differentiate day and night times based off of our site location and time."
   ]
  },
  {
   "cell_type": "code",
   "execution_count": null,
   "id": "9f8ca5eb",
   "metadata": {},
   "outputs": [],
   "source": [
    "#reading in sunrise and sunset data\n",
    "sunriseSunset = pvlib.solarposition.sun_rise_set_transit_ephem(df.index.tz_localize('EST') , 40.7128, -74.0059)\n",
    "\n",
    "#data is hourly, so only need the hour from above table\n",
    "df['sunrise'] = sunriseSunset['sunrise'].dt.hour.values\n",
    "#without +1 a sunset at 4:14pm would mark timestamp of 4 pm as night, even though it is before 4:14pm\n",
    "df['sunset'] = sunriseSunset['sunset'].dt.hour.values + 1 \n",
    "afterSunrise = df['hour'] > df['sunrise']\n",
    "beforeSunset = df['hour'] < df['sunset']\n",
    "\n",
    "#daytime accounts for the changes in time across the year\n",
    "df['daytime'] = afterSunrise.values & beforeSunset.values\n",
    "df.head(10)"
   ]
  },
  {
   "cell_type": "markdown",
   "id": "c6f34292",
   "metadata": {},
   "source": [
    "The following plot shows the variation in day and night wind speeds across the months of 2012.  There does not seem to be strong difference between day and night average wind speeds. "
   ]
  },
  {
   "cell_type": "code",
   "execution_count": null,
   "id": "353baad9",
   "metadata": {},
   "outputs": [],
   "source": [
    "day = df[df['daytime'] == True][['wspd', 'month']].reset_index(drop = True)\n",
    "day['Time'] = 'day'\n",
    "night = df[df['daytime'] == False][['wspd', 'month']].reset_index(drop = True)\n",
    "night['Time'] = 'night'\n",
    "\n",
    "dayNight = pd.concat([day, night])\n",
    "\n",
    "sns.boxplot(x='month',y='wspd',data=dayNight,hue='Time')\n",
    "\n",
    "plt.xticks(np.arange(0, 12, 1),\n",
    "           ['Jan', 'Feb', 'Mar', 'Apr', 'May', 'Jun', 'Jul', 'Aug', 'Sep', 'Oct', 'Nov', 'Dec'])\n",
    "plt.ylabel(\"Wind speed (m/s)\")\n",
    "plt.xlabel(\"\")\n",
    "#add title\n",
    "\n",
    "plt.show()\n"
   ]
  },
  {
   "cell_type": "markdown",
   "id": "cece5b50",
   "metadata": {},
   "source": [
    "However, when looking at variability in wind speed during the day and night, we see a slightly different picture. Summer and fall months (except August) seem to have the greatest differences in variability."
   ]
  },
  {
   "cell_type": "code",
   "execution_count": null,
   "id": "4757b981",
   "metadata": {},
   "outputs": [],
   "source": [
    "#adapting function to calculate RCoV for day and night separately\n",
    "\n",
    "dset_coords = f['coordinates'][...]\n",
    "tree = cKDTree(dset_coords)\n",
    "\n",
    "def getMonthlyRCoV2012dayNight(lat, lon, tz):\n",
    "    idx = nearest_site(tree, lat, lon)\n",
    "    tseries = dset[:, idx] / dset.attrs['scale_factor']\n",
    "    df = pd.DataFrame({'wspd': tseries}, index=time_index)\n",
    "    df[\"year\"] = df.index.year\n",
    "    df[\"month\"] = df.index.month\n",
    "    df[\"hour\"] = df.index.hour\n",
    "\n",
    "    #reading in sunrise and sunset data\n",
    "    sunriseSunset = pvlib.solarposition.sun_rise_set_transit_ephem(df.index.tz_localize(tz) , lat, lon)\n",
    "\n",
    "    #data is hourly, so only need the hour from above table\n",
    "    df['sunrise'] = sunriseSunset['sunrise'].dt.hour.values\n",
    "    #without +1 a sunset at 4:14pm would mark timestamp of 4 pm as night, even though it is before 4:14pm\n",
    "    df['sunset'] = sunriseSunset['sunset'].dt.hour.values + 1 \n",
    "    afterSunrise = df['hour'] > df['sunrise']\n",
    "    beforeSunset = df['hour'] < df['sunset']\n",
    "\n",
    "    #daytime accounts for the changes in time across the year\n",
    "    df['daytime'] = afterSunrise.values & beforeSunset.values\n",
    "\n",
    "    #splitting into day and night\n",
    "    day = df[df['daytime'] == True]\n",
    "    night = df[df['daytime'] == False]\n",
    "    speedByMonthDay = [day.loc[day['month'] == month]['wspd'].values for month in np.arange(1, 13)]\n",
    "    speedByMonthNight = [night.loc[night['month'] == month]['wspd'].values for month in np.arange(1, 13)]\n",
    "\n",
    "    #calculating RCoV for day and night separately\n",
    "    daytimeMonthlyRCoVs = [rcov(speedByMonthDay[month]) for month in np.arange(0, 12, 1)]\n",
    "    nightMonthlyRCoVs = [rcov(speedByMonthNight[month]) for month in np.arange(0, 12, 1)]\n",
    "    d = {'month': ['Jan', 'Feb', 'Mar', 'Apr', 'May', 'Jun', 'Jul', 'Aug', 'Sep', 'Oct', 'Nov', 'Dec'],\n",
    "            'dayRCoV': daytimeMonthlyRCoVs,\n",
    "            'nightRCoV': nightMonthlyRCoVs}\n",
    "    return(pd.DataFrame(data=d).set_index(\"month\"))"
   ]
  },
  {
   "cell_type": "code",
   "execution_count": null,
   "id": "d756ead9",
   "metadata": {},
   "outputs": [],
   "source": [
    "getMonthlyRCoV2012dayNight(40.7128, -74.0059, 'EST')"
   ]
  },
  {
   "cell_type": "code",
   "execution_count": null,
   "id": "f9f8dd66",
   "metadata": {},
   "outputs": [],
   "source": [
    "fig, ax = plt.subplots()\n",
    "lines = ax.plot(getMonthlyRCoV2012dayNight(40.7128, -74.0059, 'EST'))\n",
    "ax.legend(['day', 'night'])\n",
    "plt.ylabel('RCoV')\n",
    "plt.show()\n"
   ]
  },
  {
   "cell_type": "code",
   "execution_count": null,
   "id": "062de296",
   "metadata": {},
   "outputs": [],
   "source": []
  }
 ],
 "metadata": {
  "kernelspec": {
   "display_name": "Python 3",
   "language": "python",
   "name": "python3"
  },
  "language_info": {
   "codemirror_mode": {
    "name": "ipython",
    "version": 3
   },
   "file_extension": ".py",
   "mimetype": "text/x-python",
   "name": "python",
   "nbconvert_exporter": "python",
   "pygments_lexer": "ipython3",
   "version": "3.8.8"
  }
 },
 "nbformat": 4,
 "nbformat_minor": 5
}
